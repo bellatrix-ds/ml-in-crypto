{
 "cells": [
  {
   "cell_type": "markdown",
   "id": "8046c424",
   "metadata": {},
   "source": [
    "Query 1:\n",
    "<br> \n",
    "SELECT \n",
    "FROM_ADDRESS,\n",
    "TO_ADDRESS,\n",
    "TO_ADDRESS_NAME,\n",
    "BLOCK_TIMESTAMP,\n",
    "VALUE,\n",
    "GAS,\n",
    "GAS_USED,\n",
    "TX_HASH,\n",
    "FUNCTION_NAME,\n",
    "BLOCK_NUMBER as Block_Height ,\n",
    "TX_POSITION,\n",
    "TRACE_INDEX\n",
    "FROM ethereum.core.ez_decoded_traces\n",
    "WHERE  BLOCK_TIMESTAMP between '2025-01-01' and '2025-01-15'"
   ]
  },
  {
   "cell_type": "code",
   "execution_count": 2,
   "id": "1814817e",
   "metadata": {},
   "outputs": [],
   "source": [
    "# 📊 Data Handling\n",
    "import pandas as pd\n",
    "import numpy as np\n",
    "\n",
    "# 📈 Visualization\n",
    "import matplotlib.pyplot as plt\n",
    "import seaborn as sns\n",
    "import plotly.express as px\n",
    "\n",
    "# ⚙️ Preprocessing & Scaling\n",
    "from datetime import timedelta\n",
    "from sklearn.preprocessing import MinMaxScaler\n",
    "from sklearn.preprocessing import StandardScaler\n",
    "\n",
    "# 📈 Analysis\n",
    "import scipy.stats as stats\n",
    "from sklearn.feature_selection import VarianceThreshold\n",
    "from sklearn.decomposition import PCA\n",
    "from sklearn.manifold import TSNE\n",
    "  \n",
    "# 🧠 Modeling\n",
    "from sklearn.cluster import KMeans, DBSCAN\n",
    "import hdbscan\n",
    "from sklearn.metrics import silhouette_score"
   ]
  },
  {
   "cell_type": "code",
   "execution_count": 3,
   "id": "ca55f04f",
   "metadata": {},
   "outputs": [],
   "source": [
    "d1 = pd.read_csv('01.csv',on_bad_lines='skip')\n",
    "d2 = pd.read_csv('02.csv',on_bad_lines='skip')\n",
    "d3 = pd.read_csv('03.csv',on_bad_lines='skip')\n",
    "d4 = pd.read_csv('04.csv',on_bad_lines='skip')\n",
    "d5 = pd.read_csv('05.csv',on_bad_lines='skip')\n",
    "d6 = pd.read_csv('06.csv',on_bad_lines='skip')\n",
    "df = pd.concat([d1,d2,d3,d4,d5,d6])"
   ]
  },
  {
   "cell_type": "code",
   "execution_count": 4,
   "id": "d63bdded",
   "metadata": {},
   "outputs": [
    {
     "data": {
      "text/html": [
       "<div>\n",
       "<style scoped>\n",
       "    .dataframe tbody tr th:only-of-type {\n",
       "        vertical-align: middle;\n",
       "    }\n",
       "\n",
       "    .dataframe tbody tr th {\n",
       "        vertical-align: top;\n",
       "    }\n",
       "\n",
       "    .dataframe thead th {\n",
       "        text-align: right;\n",
       "    }\n",
       "</style>\n",
       "<table border=\"1\" class=\"dataframe\">\n",
       "  <thead>\n",
       "    <tr style=\"text-align: right;\">\n",
       "      <th></th>\n",
       "      <th>FROM_ADDRESS</th>\n",
       "      <th>TO_ADDRESS</th>\n",
       "      <th>TO_ADDRESS_NAME</th>\n",
       "      <th>BLOCK_TIMESTAMP</th>\n",
       "      <th>VALUE</th>\n",
       "      <th>GAS</th>\n",
       "      <th>GAS_USED</th>\n",
       "      <th>TX_HASH</th>\n",
       "      <th>FUNCTION_NAME</th>\n",
       "      <th>BLOCK_HEIGHT</th>\n",
       "      <th>TX_POSITION</th>\n",
       "      <th>TRACE_INDEX</th>\n",
       "    </tr>\n",
       "  </thead>\n",
       "  <tbody>\n",
       "    <tr>\n",
       "      <th>0</th>\n",
       "      <td>0x9d58779365b067d5d3fcc6e92d237acd06f1e6a1</td>\n",
       "      <td>0x78b8227c1b93a5dbefa2623cee1eeba1b18a7760</td>\n",
       "      <td>NaN</td>\n",
       "      <td>2025-01-04 21:04:59</td>\n",
       "      <td>0.0</td>\n",
       "      <td>167602.0</td>\n",
       "      <td>7403.0</td>\n",
       "      <td>0xa02b86e44241888f28e1cb24b867d2772d80968be7b3...</td>\n",
       "      <td>owner</td>\n",
       "      <td>21553686.0</td>\n",
       "      <td>141.0</td>\n",
       "      <td>4.0</td>\n",
       "    </tr>\n",
       "    <tr>\n",
       "      <th>1</th>\n",
       "      <td>0xa0b86991c6218b36c1d19d4a2e9eb0ce3606eb48</td>\n",
       "      <td>0x43506849d7c04f9138d1a2050bbf3a0c054402dd</td>\n",
       "      <td>NaN</td>\n",
       "      <td>2025-01-04 21:11:59</td>\n",
       "      <td>0.0</td>\n",
       "      <td>64306.0</td>\n",
       "      <td>9463.0</td>\n",
       "      <td>0x9e0cb71945a4d7928242a9fe37f9e82570c2fdcf1b69...</td>\n",
       "      <td>transfer</td>\n",
       "      <td>21553721.0</td>\n",
       "      <td>8.0</td>\n",
       "      <td>15.0</td>\n",
       "    </tr>\n",
       "    <tr>\n",
       "      <th>2</th>\n",
       "      <td>0x3fc91a3afd70395cd496c647d5a6cc9d4b2b7fad</td>\n",
       "      <td>0xc02aaa39b223fe8d0a0e5c4f27ead9083c756cc2</td>\n",
       "      <td>Wrapped Ether</td>\n",
       "      <td>2025-01-04 07:48:35</td>\n",
       "      <td>0.0</td>\n",
       "      <td>47077.0</td>\n",
       "      <td>9220.0</td>\n",
       "      <td>0xba2b481d50bc99ed18638053829cbb34ba1d05a5ded5...</td>\n",
       "      <td>withdraw</td>\n",
       "      <td>21549722.0</td>\n",
       "      <td>182.0</td>\n",
       "      <td>11.0</td>\n",
       "    </tr>\n",
       "    <tr>\n",
       "      <th>3</th>\n",
       "      <td>0xfdf48acef0014d47c1f60551c333cfffaf57d43d</td>\n",
       "      <td>0x06450dee7fd2fb8e39061434babcfc05599a6fb8</td>\n",
       "      <td>XEN Crypto</td>\n",
       "      <td>2025-01-04 07:00:11</td>\n",
       "      <td>0.0</td>\n",
       "      <td>7976636.0</td>\n",
       "      <td>14769.0</td>\n",
       "      <td>0x25a632434d853ec82b29b529464bbe6da875a622ea37...</td>\n",
       "      <td>claimRank</td>\n",
       "      <td>21549480.0</td>\n",
       "      <td>43.0</td>\n",
       "      <td>670.0</td>\n",
       "    </tr>\n",
       "    <tr>\n",
       "      <th>4</th>\n",
       "      <td>0x5141b82f5ffda4c6fe1e372978f1c5427640a190</td>\n",
       "      <td>0xc02aaa39b223fe8d0a0e5c4f27ead9083c756cc2</td>\n",
       "      <td>Wrapped Ether</td>\n",
       "      <td>2025-01-04 07:24:59</td>\n",
       "      <td>0.0</td>\n",
       "      <td>51378.0</td>\n",
       "      <td>6062.0</td>\n",
       "      <td>0xfa383b405155fdcb0989b33c542a138d4e1a748d18fc...</td>\n",
       "      <td>transfer</td>\n",
       "      <td>21549604.0</td>\n",
       "      <td>91.0</td>\n",
       "      <td>10.0</td>\n",
       "    </tr>\n",
       "  </tbody>\n",
       "</table>\n",
       "</div>"
      ],
      "text/plain": [
       "                                 FROM_ADDRESS  \\\n",
       "0  0x9d58779365b067d5d3fcc6e92d237acd06f1e6a1   \n",
       "1  0xa0b86991c6218b36c1d19d4a2e9eb0ce3606eb48   \n",
       "2  0x3fc91a3afd70395cd496c647d5a6cc9d4b2b7fad   \n",
       "3  0xfdf48acef0014d47c1f60551c333cfffaf57d43d   \n",
       "4  0x5141b82f5ffda4c6fe1e372978f1c5427640a190   \n",
       "\n",
       "                                   TO_ADDRESS TO_ADDRESS_NAME  \\\n",
       "0  0x78b8227c1b93a5dbefa2623cee1eeba1b18a7760             NaN   \n",
       "1  0x43506849d7c04f9138d1a2050bbf3a0c054402dd             NaN   \n",
       "2  0xc02aaa39b223fe8d0a0e5c4f27ead9083c756cc2   Wrapped Ether   \n",
       "3  0x06450dee7fd2fb8e39061434babcfc05599a6fb8      XEN Crypto   \n",
       "4  0xc02aaa39b223fe8d0a0e5c4f27ead9083c756cc2   Wrapped Ether   \n",
       "\n",
       "      BLOCK_TIMESTAMP  VALUE        GAS  GAS_USED  \\\n",
       "0 2025-01-04 21:04:59    0.0   167602.0    7403.0   \n",
       "1 2025-01-04 21:11:59    0.0    64306.0    9463.0   \n",
       "2 2025-01-04 07:48:35    0.0    47077.0    9220.0   \n",
       "3 2025-01-04 07:00:11    0.0  7976636.0   14769.0   \n",
       "4 2025-01-04 07:24:59    0.0    51378.0    6062.0   \n",
       "\n",
       "                                             TX_HASH FUNCTION_NAME  \\\n",
       "0  0xa02b86e44241888f28e1cb24b867d2772d80968be7b3...         owner   \n",
       "1  0x9e0cb71945a4d7928242a9fe37f9e82570c2fdcf1b69...      transfer   \n",
       "2  0xba2b481d50bc99ed18638053829cbb34ba1d05a5ded5...      withdraw   \n",
       "3  0x25a632434d853ec82b29b529464bbe6da875a622ea37...     claimRank   \n",
       "4  0xfa383b405155fdcb0989b33c542a138d4e1a748d18fc...      transfer   \n",
       "\n",
       "   BLOCK_HEIGHT  TX_POSITION  TRACE_INDEX  \n",
       "0    21553686.0        141.0          4.0  \n",
       "1    21553721.0          8.0         15.0  \n",
       "2    21549722.0        182.0         11.0  \n",
       "3    21549480.0         43.0        670.0  \n",
       "4    21549604.0         91.0         10.0  "
      ]
     },
     "execution_count": 4,
     "metadata": {},
     "output_type": "execute_result"
    }
   ],
   "source": [
    "df['BLOCK_TIMESTAMP'] = pd.to_datetime(df['BLOCK_TIMESTAMP'])\n",
    "df.head()"
   ]
  },
  {
   "cell_type": "code",
   "execution_count": 5,
   "id": "12763c86",
   "metadata": {},
   "outputs": [
    {
     "name": "stdout",
     "output_type": "stream",
     "text": [
      "<class 'pandas.core.frame.DataFrame'>\n",
      "Int64Index: 599974 entries, 0 to 99994\n",
      "Data columns (total 12 columns):\n",
      " #   Column           Non-Null Count   Dtype         \n",
      "---  ------           --------------   -----         \n",
      " 0   FROM_ADDRESS     599974 non-null  object        \n",
      " 1   TO_ADDRESS       599968 non-null  object        \n",
      " 2   TO_ADDRESS_NAME  331696 non-null  object        \n",
      " 3   BLOCK_TIMESTAMP  599968 non-null  datetime64[ns]\n",
      " 4   VALUE            599968 non-null  float64       \n",
      " 5   GAS              599968 non-null  float64       \n",
      " 6   GAS_USED         599968 non-null  float64       \n",
      " 7   TX_HASH          599968 non-null  object        \n",
      " 8   FUNCTION_NAME    599968 non-null  object        \n",
      " 9   BLOCK_HEIGHT     599968 non-null  float64       \n",
      " 10  TX_POSITION      599968 non-null  float64       \n",
      " 11  TRACE_INDEX      599968 non-null  float64       \n",
      "dtypes: datetime64[ns](1), float64(6), object(5)\n",
      "memory usage: 59.5+ MB\n"
     ]
    }
   ],
   "source": [
    "df.info()"
   ]
  },
  {
   "cell_type": "code",
   "execution_count": 6,
   "id": "d2a5ec41",
   "metadata": {},
   "outputs": [
    {
     "data": {
      "text/plain": [
       "(599974, 12)"
      ]
     },
     "execution_count": 6,
     "metadata": {},
     "output_type": "execute_result"
    }
   ],
   "source": [
    "df.shape"
   ]
  },
  {
   "cell_type": "markdown",
   "id": "54668508",
   "metadata": {},
   "source": [
    "# Step 01: EDA"
   ]
  },
  {
   "cell_type": "code",
   "execution_count": 7,
   "id": "17f003f5",
   "metadata": {},
   "outputs": [
    {
     "data": {
      "text/plain": [
       "0x06450dee7fd2fb8e39061434babcfc05599a6fb8    33334\n",
       "0xa0b86991c6218b36c1d19d4a2e9eb0ce3606eb48    31737\n",
       "0x3fc91a3afd70395cd496c647d5a6cc9d4b2b7fad    22632\n",
       "0x66a9893cc07d91d95644aedd05d03f95e1dba8af    16157\n",
       "0x0d0e364aa7852291883c162b22d6d81f6355428f    10575\n",
       "0x7a250d5630b4cf539739df2c5dacb4c659f2488d     8257\n",
       "0x1111111254eeb25477b68fb85ed929f73a960582     6644\n",
       "0x5141b82f5ffda4c6fe1e372978f1c5427640a190     6513\n",
       "0x0a252663dbcc0b073063d6420a40319e438cfa59     5694\n",
       "0x70bf6634ee8cb27d04478f184b9b8bb13e5f4710     5137\n",
       "0xa7ca2c8673bcfa5a26d8ceec2887f2cc2b0db22a     4141\n",
       "0x1231deb6f5749ef6ce6943a275a1d3e7486f4eae     4069\n",
       "0x74de5d4fcbf63e00296fd95d33236b9794016631     3976\n",
       "0x7d0ccaa3fac1e5a943c5168b6ced828691b46b36     3744\n",
       "0x111111125421ca6dc452d289314280a0f8842a65     3705\n",
       "0x00a0be1bbc0c99898df7e6524bf16e893c1e3bb9     3501\n",
       "0x3328f7f4a1d1c57c35df56bbf0c9dcafca309c49     3342\n",
       "0xa9d1e08c7793af67e9d92fe308d5697fb81d3e43     3270\n",
       "0xc7bbec68d12a0d1830360f8ec58fa599ba1b0e9b     3239\n",
       "0xf3de3c0d654fda23dad170f0f320a92172509127     3237\n",
       "Name: FROM_ADDRESS, dtype: int64"
      ]
     },
     "execution_count": 7,
     "metadata": {},
     "output_type": "execute_result"
    }
   ],
   "source": [
    "df['FROM_ADDRESS'].value_counts().head(20)"
   ]
  },
  {
   "cell_type": "code",
   "execution_count": 8,
   "id": "c2fdc840",
   "metadata": {},
   "outputs": [
    {
     "data": {
      "text/plain": [
       "0xc02aaa39b223fe8d0a0e5c4f27ead9083c756cc2    93537\n",
       "0x4bba9b6b49f3dfa6615f079e9d66b0aa68b04a4d    33327\n",
       "0xa0b86991c6218b36c1d19d4a2e9eb0ce3606eb48    31778\n",
       "0x43506849d7c04f9138d1a2050bbf3a0c054402dd    31650\n",
       "0xdac17f958d2ee523a2206206994597c13d831ec7    31275\n",
       "0x06450dee7fd2fb8e39061434babcfc05599a6fb8    17061\n",
       "0x0a252663dbcc0b073063d6420a40319e438cfa59     5812\n",
       "0x000000000022d473030f116ddee9f6b43ac78ba3     4591\n",
       "0x000000000004444c5dc75cb358380d2e3de08a90     4431\n",
       "0x3fc91a3afd70395cd496c647d5a6cc9d4b2b7fad     3976\n",
       "0xbbbbbbbbbb9cc5e90e3b3af64bdaf62c37eeffcb     3640\n",
       "0x7a250d5630b4cf539739df2c5dacb4c659f2488d     3236\n",
       "0x0de8bf93da2f7eecb3d9169422413a9bef4ef628     3075\n",
       "0x2260fac5e5542a773aa44fbcfedf7c193bc2c599     2653\n",
       "0x1111111254eeb25477b68fb85ed929f73a960582     2500\n",
       "0x52aa899454998be5b000ad077a46bbe360f4e497     2402\n",
       "0x3c3d457f1522d3540ab3325aa5f1864e34cba9d0     2248\n",
       "0x98f3c9e6e3face36baad05fe09d375ef1464288b     2210\n",
       "0x7f39c581f595b53c5cb19bd0b3f8da6c935e2ca0     2202\n",
       "0x1d8f8f00cfa6758d7be78336684788fb0ee0fa46     2123\n",
       "Name: TO_ADDRESS, dtype: int64"
      ]
     },
     "execution_count": 8,
     "metadata": {},
     "output_type": "execute_result"
    }
   ],
   "source": [
    "df['TO_ADDRESS'].value_counts().head(20)"
   ]
  },
  {
   "cell_type": "code",
   "execution_count": 9,
   "id": "807cb429",
   "metadata": {},
   "outputs": [
    {
     "data": {
      "text/plain": [
       "<Axes: xlabel='BLOCK_HEIGHT'>"
      ]
     },
     "execution_count": 9,
     "metadata": {},
     "output_type": "execute_result"
    },
    {
     "data": {
      "image/png": "[encoded data removed]",
      "text/plain": [
       "<Figure size 640x480 with 1 Axes>"
      ]
     },
     "metadata": {},
     "output_type": "display_data"
    }
   ],
   "source": [
    "df.groupby('BLOCK_HEIGHT')['TX_HASH'].count().plot()"
   ]
  },
  {
   "cell_type": "code",
   "execution_count": 10,
   "id": "91fdeac1",
   "metadata": {},
   "outputs": [
    {
     "data": {
      "text/plain": [
       "<Axes: xlabel='GAS_USED', ylabel='Count'>"
      ]
     },
     "execution_count": 10,
     "metadata": {},
     "output_type": "execute_result"
    },
    {
     "data": {
      "image/png": "[encoded data removed]",
      "text/plain": [
       "<Figure size 640x480 with 1 Axes>"
      ]
     },
     "metadata": {},
     "output_type": "display_data"
    }
   ],
   "source": [
    "sns.histplot(df['GAS_USED'], log_scale=True)\n"
   ]
  },
  {
   "cell_type": "code",
   "execution_count": 11,
   "id": "c903bd3a",
   "metadata": {},
   "outputs": [
    {
     "data": {
      "text/plain": [
       "<Axes: xlabel='VALUE', ylabel='Count'>"
      ]
     },
     "execution_count": 11,
     "metadata": {},
     "output_type": "execute_result"
    },
    {
     "data": {
      "image/png": "[encoded data removed]",
      "text/plain": [
       "<Figure size 640x480 with 1 Axes>"
      ]
     },
     "metadata": {},
     "output_type": "display_data"
    }
   ],
   "source": [
    "sns.histplot(df['VALUE'], log_scale=True)"
   ]
  },
  {
   "cell_type": "code",
   "execution_count": 12,
   "id": "26fac019",
   "metadata": {},
   "outputs": [
    {
     "data": {
      "text/plain": [
       "<Axes: xlabel='GAS_USED', ylabel='Count'>"
      ]
     },
     "execution_count": 12,
     "metadata": {},
     "output_type": "execute_result"
    },
    {
     "data": {
      "image/png": "[encoded data removed]",
      "text/plain": [
       "<Figure size 640x480 with 1 Axes>"
      ]
     },
     "metadata": {},
     "output_type": "display_data"
    }
   ],
   "source": [
    "sns.histplot(df['GAS_USED'], log_scale=True)\n"
   ]
  },
  {
   "cell_type": "code",
   "execution_count": 13,
   "id": "0f9bd28a",
   "metadata": {},
   "outputs": [
    {
     "data": {
      "text/plain": [
       "<Axes: xlabel='VALUE', ylabel='Count'>"
      ]
     },
     "execution_count": 13,
     "metadata": {},
     "output_type": "execute_result"
    },
    {
     "data": {
      "image/png": "[encoded data removed]",
      "text/plain": [
       "<Figure size 640x480 with 1 Axes>"
      ]
     },
     "metadata": {},
     "output_type": "display_data"
    }
   ],
   "source": [
    "sns.histplot(df['VALUE'], log_scale=True)"
   ]
  },
  {
   "cell_type": "markdown",
   "id": "7ccfec45",
   "metadata": {},
   "source": [
    "# Step 02: Feature Engineering"
   ]
  },
  {
   "cell_type": "markdown",
   "id": "f77f02db",
   "metadata": {},
   "source": [
    "## 2.1 🧩  Edge-level features"
   ]
  },
  {
   "cell_type": "code",
   "execution_count": 14,
   "id": "f7005d85",
   "metadata": {},
   "outputs": [],
   "source": [
    "\n",
    "# لیست همه آدرس‌ها\n",
    "all_addresses = pd.concat([df['FROM_ADDRESS'], df['TO_ADDRESS']]).dropna().unique()\n",
    "\n",
    "# تعداد تراکنش‌های ارسال و دریافت برای هر آدرس\n",
    "node_features = pd.DataFrame({'ADDRESS': all_addresses})\n",
    "\n",
    "# تعداد تراکنش‌های ارسالی\n",
    "node_features['NUM_TX_SENT'] = node_features['ADDRESS'].map(df['FROM_ADDRESS'].value_counts())\n",
    "\n",
    "# تعداد تراکنش‌های دریافتی\n",
    "node_features['NUM_TX_RECEIVED'] = node_features['ADDRESS'].map(df['TO_ADDRESS'].value_counts())\n",
    "\n",
    "# مجموع ارزش ارسالی\n",
    "node_features['TOTAL_VALUE_SENT'] = node_features['ADDRESS'].map(df.groupby('FROM_ADDRESS')['VALUE'].sum())\n",
    "\n",
    "# مجموع ارزش دریافتی\n",
    "node_features['TOTAL_VALUE_RECEIVED'] = node_features['ADDRESS'].map(df.groupby('TO_ADDRESS')['VALUE'].sum())\n",
    "\n",
    "# میانگین گس استفاده شده برای ارسال\n",
    "node_features['AVG_GAS_USED'] = node_features['ADDRESS'].map(df.groupby('FROM_ADDRESS')['GAS_USED'].mean())\n",
    "\n",
    "# پر کردن مقدارهای NaN با صفر\n",
    "node_features = node_features.fillna(0)"
   ]
  },
  {
   "cell_type": "code",
   "execution_count": 15,
   "id": "2692fd4d",
   "metadata": {},
   "outputs": [
    {
     "data": {
      "text/html": [
       "<div>\n",
       "<style scoped>\n",
       "    .dataframe tbody tr th:only-of-type {\n",
       "        vertical-align: middle;\n",
       "    }\n",
       "\n",
       "    .dataframe tbody tr th {\n",
       "        vertical-align: top;\n",
       "    }\n",
       "\n",
       "    .dataframe thead th {\n",
       "        text-align: right;\n",
       "    }\n",
       "</style>\n",
       "<table border=\"1\" class=\"dataframe\">\n",
       "  <thead>\n",
       "    <tr style=\"text-align: right;\">\n",
       "      <th></th>\n",
       "      <th>ADDRESS</th>\n",
       "      <th>NUM_TX_SENT</th>\n",
       "      <th>NUM_TX_RECEIVED</th>\n",
       "      <th>TOTAL_VALUE_SENT</th>\n",
       "      <th>TOTAL_VALUE_RECEIVED</th>\n",
       "      <th>AVG_GAS_USED</th>\n",
       "    </tr>\n",
       "  </thead>\n",
       "  <tbody>\n",
       "    <tr>\n",
       "      <th>0</th>\n",
       "      <td>0x9d58779365b067d5d3fcc6e92d237acd06f1e6a1</td>\n",
       "      <td>24.0</td>\n",
       "      <td>16.0</td>\n",
       "      <td>0.000000</td>\n",
       "      <td>0.000000</td>\n",
       "      <td>82563.541667</td>\n",
       "    </tr>\n",
       "    <tr>\n",
       "      <th>1</th>\n",
       "      <td>0xa0b86991c6218b36c1d19d4a2e9eb0ce3606eb48</td>\n",
       "      <td>31737.0</td>\n",
       "      <td>31778.0</td>\n",
       "      <td>0.000000</td>\n",
       "      <td>0.000000</td>\n",
       "      <td>12808.469295</td>\n",
       "    </tr>\n",
       "    <tr>\n",
       "      <th>2</th>\n",
       "      <td>0x3fc91a3afd70395cd496c647d5a6cc9d4b2b7fad</td>\n",
       "      <td>22632.0</td>\n",
       "      <td>3976.0</td>\n",
       "      <td>496.958480</td>\n",
       "      <td>424.889657</td>\n",
       "      <td>20360.915562</td>\n",
       "    </tr>\n",
       "    <tr>\n",
       "      <th>3</th>\n",
       "      <td>0xfdf48acef0014d47c1f60551c333cfffaf57d43d</td>\n",
       "      <td>1.0</td>\n",
       "      <td>0.0</td>\n",
       "      <td>0.000000</td>\n",
       "      <td>0.000000</td>\n",
       "      <td>14769.000000</td>\n",
       "    </tr>\n",
       "    <tr>\n",
       "      <th>4</th>\n",
       "      <td>0x5141b82f5ffda4c6fe1e372978f1c5427640a190</td>\n",
       "      <td>6513.0</td>\n",
       "      <td>0.0</td>\n",
       "      <td>1357.284089</td>\n",
       "      <td>0.000000</td>\n",
       "      <td>25707.838323</td>\n",
       "    </tr>\n",
       "    <tr>\n",
       "      <th>...</th>\n",
       "      <td>...</td>\n",
       "      <td>...</td>\n",
       "      <td>...</td>\n",
       "      <td>...</td>\n",
       "      <td>...</td>\n",
       "      <td>...</td>\n",
       "    </tr>\n",
       "    <tr>\n",
       "      <th>87527</th>\n",
       "      <td>0x0b47e04093ee2a0b754d1b09de4da285614a8cf7</td>\n",
       "      <td>0.0</td>\n",
       "      <td>1.0</td>\n",
       "      <td>0.000000</td>\n",
       "      <td>0.000000</td>\n",
       "      <td>0.000000</td>\n",
       "    </tr>\n",
       "    <tr>\n",
       "      <th>87528</th>\n",
       "      <td>0x01b6eac79aa222fd8ea3fd1e5863d94d3862f127</td>\n",
       "      <td>0.0</td>\n",
       "      <td>1.0</td>\n",
       "      <td>0.000000</td>\n",
       "      <td>0.000000</td>\n",
       "      <td>0.000000</td>\n",
       "    </tr>\n",
       "    <tr>\n",
       "      <th>87529</th>\n",
       "      <td>0x58571484bd57a87e359e46f82dfa9d13087b24a0</td>\n",
       "      <td>0.0</td>\n",
       "      <td>1.0</td>\n",
       "      <td>0.000000</td>\n",
       "      <td>0.000000</td>\n",
       "      <td>0.000000</td>\n",
       "    </tr>\n",
       "    <tr>\n",
       "      <th>87530</th>\n",
       "      <td>0xa0cbe21643a224fd30f5fd629c746a0ede665299</td>\n",
       "      <td>0.0</td>\n",
       "      <td>1.0</td>\n",
       "      <td>0.000000</td>\n",
       "      <td>0.000000</td>\n",
       "      <td>0.000000</td>\n",
       "    </tr>\n",
       "    <tr>\n",
       "      <th>87531</th>\n",
       "      <td>0x2a3f3a6d7c5991ffb418bac0548ee2bc26046aca</td>\n",
       "      <td>0.0</td>\n",
       "      <td>1.0</td>\n",
       "      <td>0.000000</td>\n",
       "      <td>0.000000</td>\n",
       "      <td>0.000000</td>\n",
       "    </tr>\n",
       "  </tbody>\n",
       "</table>\n",
       "<p>87532 rows × 6 columns</p>\n",
       "</div>"
      ],
      "text/plain": [
       "                                          ADDRESS  NUM_TX_SENT  \\\n",
       "0      0x9d58779365b067d5d3fcc6e92d237acd06f1e6a1         24.0   \n",
       "1      0xa0b86991c6218b36c1d19d4a2e9eb0ce3606eb48      31737.0   \n",
       "2      0x3fc91a3afd70395cd496c647d5a6cc9d4b2b7fad      22632.0   \n",
       "3      0xfdf48acef0014d47c1f60551c333cfffaf57d43d          1.0   \n",
       "4      0x5141b82f5ffda4c6fe1e372978f1c5427640a190       6513.0   \n",
       "...                                           ...          ...   \n",
       "87527  0x0b47e04093ee2a0b754d1b09de4da285614a8cf7          0.0   \n",
       "87528  0x01b6eac79aa222fd8ea3fd1e5863d94d3862f127          0.0   \n",
       "87529  0x58571484bd57a87e359e46f82dfa9d13087b24a0          0.0   \n",
       "87530  0xa0cbe21643a224fd30f5fd629c746a0ede665299          0.0   \n",
       "87531  0x2a3f3a6d7c5991ffb418bac0548ee2bc26046aca          0.0   \n",
       "\n",
       "       NUM_TX_RECEIVED  TOTAL_VALUE_SENT  TOTAL_VALUE_RECEIVED  AVG_GAS_USED  \n",
       "0                 16.0          0.000000              0.000000  82563.541667  \n",
       "1              31778.0          0.000000              0.000000  12808.469295  \n",
       "2               3976.0        496.958480            424.889657  20360.915562  \n",
       "3                  0.0          0.000000              0.000000  14769.000000  \n",
       "4                  0.0       1357.284089              0.000000  25707.838323  \n",
       "...                ...               ...                   ...           ...  \n",
       "87527              1.0          0.000000              0.000000      0.000000  \n",
       "87528              1.0          0.000000              0.000000      0.000000  \n",
       "87529              1.0          0.000000              0.000000      0.000000  \n",
       "87530              1.0          0.000000              0.000000      0.000000  \n",
       "87531              1.0          0.000000              0.000000      0.000000  \n",
       "\n",
       "[87532 rows x 6 columns]"
      ]
     },
     "execution_count": 15,
     "metadata": {},
     "output_type": "execute_result"
    }
   ],
   "source": [
    "node_features"
   ]
  },
  {
   "cell_type": "code",
   "execution_count": 19,
   "id": "6fd5cd9e",
   "metadata": {},
   "outputs": [
    {
     "data": {
      "text/plain": [
       "<Axes: xlabel='TOTAL_VALUE_RECEIVED', ylabel='Count'>"
      ]
     },
     "execution_count": 19,
     "metadata": {},
     "output_type": "execute_result"
    },
    {
     "data": {
      "image/png": "[encoded data removed]",
      "text/plain": [
       "<Figure size 640x480 with 1 Axes>"
      ]
     },
     "metadata": {},
     "output_type": "display_data"
    }
   ],
   "source": [
    "numeric_cols = node_features.select_dtypes(include=['float64', 'int64']).columns\n",
    "\n",
    "# روی هر ستون عددی، امتیازدهی انجام می‌دیم\n",
    "for col in numeric_cols:\n",
    "    try:\n",
    "        # اگر تعداد مقادیر منحصر‌به‌فرد کمتر از 10 باشه ممکنه ارور بده، بنابراین duplicates='drop'\n",
    "        node_features[f\"{col}_SCORE\"] = pd.qcut(node_features[col].rank(method='average'), 10, labels=False, duplicates='drop') + 1\n",
    "    except Exception as e:\n",
    "        print(f\"❌ Couldn't bin column {col}: {e}\")"
   ]
  },
  {
   "cell_type": "markdown",
   "id": "49251b21",
   "metadata": {},
   "source": [
    "## 2.2  Edge-level Features "
   ]
  },
  {
   "cell_type": "code",
   "execution_count": 16,
   "id": "cf9f7fa2",
   "metadata": {},
   "outputs": [],
   "source": [
    "# ایجاد یک ستون ترکیبی فرستنده-گیرنده\n",
    "df['FROM_TO_PAIR'] = df['FROM_ADDRESS'] + '->' + df['TO_ADDRESS']\n",
    "\n",
    "# تعداد تراکنش‌ها بین هر جفت آدرس\n",
    "edge_features = df.groupby('FROM_TO_PAIR').agg(\n",
    "    NUM_TXS=('TX_HASH', 'count'),\n",
    "    TOTAL_VALUE=('VALUE', 'sum'),\n",
    "    AVG_VALUE=('VALUE', 'mean'),\n",
    "    AVG_GAS_USED=('GAS_USED', 'mean'),\n",
    "    FIRST_TX_TIME=('BLOCK_TIMESTAMP', 'min'),\n",
    "    LAST_TX_TIME=('BLOCK_TIMESTAMP', 'max'),\n",
    ").reset_index()\n",
    "\n",
    "# استخراج آدرس‌ها مجدد از ستون ترکیبی\n",
    "edge_features['FROM_ADDRESS'] = edge_features['FROM_TO_PAIR'].str.split('->').str[0]\n",
    "edge_features['TO_ADDRESS'] = edge_features['FROM_TO_PAIR'].str.split('->').str[1]\n",
    "\n",
    "# حذف ستون ترکیبی\n",
    "edge_features.drop(columns=['FROM_TO_PAIR'], inplace=True)"
   ]
  },
  {
   "cell_type": "code",
   "execution_count": 17,
   "id": "cafe95fb",
   "metadata": {},
   "outputs": [
    {
     "data": {
      "text/html": [
       "<div>\n",
       "<style scoped>\n",
       "    .dataframe tbody tr th:only-of-type {\n",
       "        vertical-align: middle;\n",
       "    }\n",
       "\n",
       "    .dataframe tbody tr th {\n",
       "        vertical-align: top;\n",
       "    }\n",
       "\n",
       "    .dataframe thead th {\n",
       "        text-align: right;\n",
       "    }\n",
       "</style>\n",
       "<table border=\"1\" class=\"dataframe\">\n",
       "  <thead>\n",
       "    <tr style=\"text-align: right;\">\n",
       "      <th></th>\n",
       "      <th>NUM_TXS</th>\n",
       "      <th>TOTAL_VALUE</th>\n",
       "      <th>AVG_VALUE</th>\n",
       "      <th>AVG_GAS_USED</th>\n",
       "      <th>FIRST_TX_TIME</th>\n",
       "      <th>LAST_TX_TIME</th>\n",
       "      <th>FROM_ADDRESS</th>\n",
       "      <th>TO_ADDRESS</th>\n",
       "    </tr>\n",
       "  </thead>\n",
       "  <tbody>\n",
       "    <tr>\n",
       "      <th>0</th>\n",
       "      <td>1</td>\n",
       "      <td>0.000000</td>\n",
       "      <td>0.000000</td>\n",
       "      <td>43807.000000</td>\n",
       "      <td>2025-02-06 06:37:23</td>\n",
       "      <td>2025-02-06 06:37:23</td>\n",
       "      <td>0x000000000000003607fce1ac9e043a86675c5c2f</td>\n",
       "      <td>0xb47e3cd837ddf8e4c57f05d70ab865de6e193bbb</td>\n",
       "    </tr>\n",
       "    <tr>\n",
       "      <th>1</th>\n",
       "      <td>21</td>\n",
       "      <td>0.000000</td>\n",
       "      <td>0.000000</td>\n",
       "      <td>2517.904762</td>\n",
       "      <td>2025-01-04 01:23:59</td>\n",
       "      <td>2025-03-01 00:24:11</td>\n",
       "      <td>0x00000000000000447e69651d841bd8d104bed493</td>\n",
       "      <td>0x00000000000000447e69651d841bd8d104bed493</td>\n",
       "    </tr>\n",
       "    <tr>\n",
       "      <th>2</th>\n",
       "      <td>842</td>\n",
       "      <td>0.000000</td>\n",
       "      <td>0.000000</td>\n",
       "      <td>5105.680523</td>\n",
       "      <td>2025-01-04 00:18:35</td>\n",
       "      <td>2025-03-15 00:58:23</td>\n",
       "      <td>0x0000000000000068f116a894984e2db1123eb395</td>\n",
       "      <td>0x000056f7000000ece9003ca63978907a00ffd100</td>\n",
       "    </tr>\n",
       "    <tr>\n",
       "      <th>3</th>\n",
       "      <td>1</td>\n",
       "      <td>0.000000</td>\n",
       "      <td>0.000000</td>\n",
       "      <td>15324.000000</td>\n",
       "      <td>2025-01-15 09:58:59</td>\n",
       "      <td>2025-01-15 09:58:59</td>\n",
       "      <td>0x0000000000000068f116a894984e2db1123eb395</td>\n",
       "      <td>0x013bb688d14a14185e218208ba07bb501e367edb</td>\n",
       "    </tr>\n",
       "    <tr>\n",
       "      <th>4</th>\n",
       "      <td>2</td>\n",
       "      <td>0.000000</td>\n",
       "      <td>0.000000</td>\n",
       "      <td>11619.000000</td>\n",
       "      <td>2025-03-15 00:53:23</td>\n",
       "      <td>2025-03-15 00:53:23</td>\n",
       "      <td>0x0000000000000068f116a894984e2db1123eb395</td>\n",
       "      <td>0x19f1b63f4fa6ee5ebca6017e04d837483d6cdf3d</td>\n",
       "    </tr>\n",
       "    <tr>\n",
       "      <th>...</th>\n",
       "      <td>...</td>\n",
       "      <td>...</td>\n",
       "      <td>...</td>\n",
       "      <td>...</td>\n",
       "      <td>...</td>\n",
       "      <td>...</td>\n",
       "      <td>...</td>\n",
       "      <td>...</td>\n",
       "    </tr>\n",
       "    <tr>\n",
       "      <th>142151</th>\n",
       "      <td>2</td>\n",
       "      <td>3.144651</td>\n",
       "      <td>1.572325</td>\n",
       "      <td>221497.500000</td>\n",
       "      <td>2025-01-04 20:59:11</td>\n",
       "      <td>2025-01-04 21:03:23</td>\n",
       "      <td>0xfffd7fdc0610d128e36b6beabbfecf93f6550ded</td>\n",
       "      <td>0x3fc91a3afd70395cd496c647d5a6cc9d4b2b7fad</td>\n",
       "    </tr>\n",
       "    <tr>\n",
       "      <th>142152</th>\n",
       "      <td>1</td>\n",
       "      <td>0.000000</td>\n",
       "      <td>0.000000</td>\n",
       "      <td>534.000000</td>\n",
       "      <td>2025-03-15 00:05:35</td>\n",
       "      <td>2025-03-15 00:05:35</td>\n",
       "      <td>0xffff5b0db46c6233f507c16ceace70187f7e5ac5</td>\n",
       "      <td>0x1d8f8f00cfa6758d7be78336684788fb0ee0fa46</td>\n",
       "    </tr>\n",
       "    <tr>\n",
       "      <th>142153</th>\n",
       "      <td>1</td>\n",
       "      <td>0.280000</td>\n",
       "      <td>0.280000</td>\n",
       "      <td>180656.000000</td>\n",
       "      <td>2025-01-04 11:28:59</td>\n",
       "      <td>2025-01-04 11:28:59</td>\n",
       "      <td>0xffffe9508272cff622e98665dd9516d03fd37493</td>\n",
       "      <td>0x3fc91a3afd70395cd496c647d5a6cc9d4b2b7fad</td>\n",
       "    </tr>\n",
       "    <tr>\n",
       "      <th>142154</th>\n",
       "      <td>6</td>\n",
       "      <td>0.000000</td>\n",
       "      <td>0.000000</td>\n",
       "      <td>31244.500000</td>\n",
       "      <td>2025-03-01 00:00:59</td>\n",
       "      <td>2025-03-01 00:11:59</td>\n",
       "      <td>0xffffffaeff0b96ea8e4f94b2253f31abdd875847</td>\n",
       "      <td>0xc011a73ee8576fb46f5e1c5751ca3b9fe0af2a6f</td>\n",
       "    </tr>\n",
       "    <tr>\n",
       "      <th>142155</th>\n",
       "      <td>2</td>\n",
       "      <td>0.000000</td>\n",
       "      <td>0.000000</td>\n",
       "      <td>521.000000</td>\n",
       "      <td>2025-03-01 00:00:59</td>\n",
       "      <td>2025-03-01 00:11:59</td>\n",
       "      <td>0xffffffaeff0b96ea8e4f94b2253f31abdd875847</td>\n",
       "      <td>0xeb1285672ba71cd73e6f54ec5be717b1d008e7dd</td>\n",
       "    </tr>\n",
       "  </tbody>\n",
       "</table>\n",
       "<p>142156 rows × 8 columns</p>\n",
       "</div>"
      ],
      "text/plain": [
       "        NUM_TXS  TOTAL_VALUE  AVG_VALUE   AVG_GAS_USED       FIRST_TX_TIME  \\\n",
       "0             1     0.000000   0.000000   43807.000000 2025-02-06 06:37:23   \n",
       "1            21     0.000000   0.000000    2517.904762 2025-01-04 01:23:59   \n",
       "2           842     0.000000   0.000000    5105.680523 2025-01-04 00:18:35   \n",
       "3             1     0.000000   0.000000   15324.000000 2025-01-15 09:58:59   \n",
       "4             2     0.000000   0.000000   11619.000000 2025-03-15 00:53:23   \n",
       "...         ...          ...        ...            ...                 ...   \n",
       "142151        2     3.144651   1.572325  221497.500000 2025-01-04 20:59:11   \n",
       "142152        1     0.000000   0.000000     534.000000 2025-03-15 00:05:35   \n",
       "142153        1     0.280000   0.280000  180656.000000 2025-01-04 11:28:59   \n",
       "142154        6     0.000000   0.000000   31244.500000 2025-03-01 00:00:59   \n",
       "142155        2     0.000000   0.000000     521.000000 2025-03-01 00:00:59   \n",
       "\n",
       "              LAST_TX_TIME                                FROM_ADDRESS  \\\n",
       "0      2025-02-06 06:37:23  0x000000000000003607fce1ac9e043a86675c5c2f   \n",
       "1      2025-03-01 00:24:11  0x00000000000000447e69651d841bd8d104bed493   \n",
       "2      2025-03-15 00:58:23  0x0000000000000068f116a894984e2db1123eb395   \n",
       "3      2025-01-15 09:58:59  0x0000000000000068f116a894984e2db1123eb395   \n",
       "4      2025-03-15 00:53:23  0x0000000000000068f116a894984e2db1123eb395   \n",
       "...                    ...                                         ...   \n",
       "142151 2025-01-04 21:03:23  0xfffd7fdc0610d128e36b6beabbfecf93f6550ded   \n",
       "142152 2025-03-15 00:05:35  0xffff5b0db46c6233f507c16ceace70187f7e5ac5   \n",
       "142153 2025-01-04 11:28:59  0xffffe9508272cff622e98665dd9516d03fd37493   \n",
       "142154 2025-03-01 00:11:59  0xffffffaeff0b96ea8e4f94b2253f31abdd875847   \n",
       "142155 2025-03-01 00:11:59  0xffffffaeff0b96ea8e4f94b2253f31abdd875847   \n",
       "\n",
       "                                        TO_ADDRESS  \n",
       "0       0xb47e3cd837ddf8e4c57f05d70ab865de6e193bbb  \n",
       "1       0x00000000000000447e69651d841bd8d104bed493  \n",
       "2       0x000056f7000000ece9003ca63978907a00ffd100  \n",
       "3       0x013bb688d14a14185e218208ba07bb501e367edb  \n",
       "4       0x19f1b63f4fa6ee5ebca6017e04d837483d6cdf3d  \n",
       "...                                            ...  \n",
       "142151  0x3fc91a3afd70395cd496c647d5a6cc9d4b2b7fad  \n",
       "142152  0x1d8f8f00cfa6758d7be78336684788fb0ee0fa46  \n",
       "142153  0x3fc91a3afd70395cd496c647d5a6cc9d4b2b7fad  \n",
       "142154  0xc011a73ee8576fb46f5e1c5751ca3b9fe0af2a6f  \n",
       "142155  0xeb1285672ba71cd73e6f54ec5be717b1d008e7dd  \n",
       "\n",
       "[142156 rows x 8 columns]"
      ]
     },
     "execution_count": 17,
     "metadata": {},
     "output_type": "execute_result"
    }
   ],
   "source": [
    "edge_features"
   ]
  },
  {
   "cell_type": "markdown",
   "id": "75a4ae00",
   "metadata": {},
   "source": [
    "# Step 03: Modeling"
   ]
  },
  {
   "cell_type": "code",
   "execution_count": 16,
   "id": "03cd5a9d",
   "metadata": {},
   "outputs": [],
   "source": [
    "import pandas as pd\n",
    "import numpy as np\n",
    "from sklearn.preprocessing import StandardScaler\n",
    "from sklearn.cluster import KMeans, DBSCAN\n",
    "from sklearn.neural_network import MLPRegressor\n",
    "from sklearn.model_selection import train_test_split\n",
    "\n",
    "\n",
    "features = [\n",
    "    \"VALUE\", \"GAS_USED\", \"GAS\", \"IS_ZERO_VALUE\", \"VALUE_PER_GAS_USED\",\n",
    "    \"IS_SUSPICIOUS_FUNCTION\", \"BLOCK_TX_COUNT\", \"TRACE_COUNT_IN_TX\",\n",
    "    \"AVG_GAS_USED_BY_SENDER\", \"TX_SENT_COUNT\", \"TX_RECEIVED_COUNT\", \"GAS_DIFF\"\n",
    "]\n",
    "\n",
    "X = df[features].fillna(0)\n",
    "X_scaled = StandardScaler().fit_transform(X)\n"
   ]
  },
  {
   "cell_type": "code",
   "execution_count": 17,
   "id": "38077422",
   "metadata": {},
   "outputs": [
    {
     "data": {
      "image/png": "[encoded data removed]",
      "text/plain": [
       "<Figure size 800x500 with 1 Axes>"
      ]
     },
     "metadata": {},
     "output_type": "display_data"
    }
   ],
   "source": [
    "from sklearn.cluster import KMeans\n",
    "import matplotlib.pyplot as plt\n",
    "\n",
    "# محاسبه WCSS برای چندین مقدار k\n",
    "wcss = []\n",
    "K_range = range(1, 11)\n",
    "\n",
    "for k in K_range:\n",
    "    kmeans = KMeans(n_clusters=k, random_state=42)\n",
    "    kmeans.fit(X_scaled)\n",
    "    wcss.append(kmeans.inertia_)\n",
    "\n",
    "# رسم نمودار Elbow\n",
    "plt.figure(figsize=(8, 5))\n",
    "plt.plot(K_range, wcss, marker='o')\n",
    "plt.title('Elbow Method For Optimal k')\n",
    "plt.xlabel('Number of clusters (k)')\n",
    "plt.ylabel('WCSS')\n",
    "plt.grid(True)\n",
    "plt.show()"
   ]
  },
  {
   "cell_type": "code",
   "execution_count": 18,
   "id": "e4259787",
   "metadata": {},
   "outputs": [],
   "source": [
    "# 🧩 1. Rule-based Detection\n",
    "df[\"RULE_BASED_FLAG\"] = (\n",
    "    (df[\"VALUE\"] == 0) |\n",
    "    (df[\"IS_SUSPICIOUS_FUNCTION\"] == 1) |\n",
    "    (df[\"VALUE_PER_GAS_USED\"] > df[\"VALUE_PER_GAS_USED\"].quantile(0.99))\n",
    ").astype(int)\n"
   ]
  },
  {
   "cell_type": "code",
   "execution_count": null,
   "id": "484417a4",
   "metadata": {},
   "outputs": [
    {
     "name": "stderr",
     "output_type": "stream",
     "text": [
      "\r",
      "Running DBSCAN:   0%|                                     | 0/4 [00:00<?, ?it/s]"
     ]
    }
   ],
   "source": [
    "from tqdm import tqdm\n",
    "import time\n",
    "# 🧪 2. Clustering - KMeans و DBSCAN\n",
    "kmeans = KMeans(n_clusters=3, random_state=42)\n",
    "df[\"KMEANS_LABEL\"] = kmeans.fit_predict(X_scaled)\n",
    "\n",
    "eps_values = [0.5, 1.0, 1.5, 2.0]\n",
    "labels_dbscan = []\n",
    "for eps in tqdm(eps_values, desc=\"Running DBSCAN\"):\n",
    "    dbscan = DBSCAN(eps=eps, min_samples=5)\n",
    "    labels = dbscan.fit_predict(X_scaled)\n",
    "    labels_dbscan.append(labels)\n",
    "    \n",
    "dbscan = DBSCAN(eps=2, min_samples=5)\n",
    "df[\"DBSCAN_LABEL\"] = dbscan.fit_predict(X_scaled)  # -1 یعنی انومالی\n"
   ]
  },
  {
   "cell_type": "code",
   "execution_count": null,
   "id": "543f90bb",
   "metadata": {},
   "outputs": [],
   "source": [
    "# 🔄 3. Autoencoder برای محاسبه Anomaly Score\n",
    "X_train, X_test = train_test_split(X_scaled, test_size=0.2, random_state=42)\n",
    "\n",
    "autoencoder = MLPRegressor(hidden_layer_sizes=(64, 32, 64), activation='relu', max_iter=200, random_state=42)\n",
    "autoencoder.fit(X_train, X_train)\n",
    "\n",
    "reconstructions = autoencoder.predict(X_scaled)\n",
    "reconstruction_error = np.mean((X_scaled - reconstructions) ** 2, axis=1)\n",
    "df[\"AUTOENCODER_ANOMALY_SCORE\"] = reconstruction_error\n"
   ]
  },
  {
   "cell_type": "code",
   "execution_count": null,
   "id": "a3582da2",
   "metadata": {},
   "outputs": [],
   "source": [
    "# 🧮 4. Final Anomaly Score\n",
    "df[\"ANOMALY_SCORE\"] = (\n",
    "    df[\"RULE_BASED_FLAG\"] * 0.5 +\n",
    "    (df[\"DBSCAN_LABEL\"] == -1).astype(int) * 0.3 +\n",
    "    df[\"AUTOENCODER_ANOMALY_SCORE\"] * 0.2\n",
    ")\n",
    "\n",
    "df_sorted = df.sort_values(\"ANOMALY_SCORE\", ascending=False)\n",
    "df_sorted[[\"ANOMALY_SCORE\", \"RULE_BASED_FLAG\", \"DBSCAN_LABEL\", \"AUTOENCODER_ANOMALY_SCORE\"]].head(10)"
   ]
  }
 ],
 "metadata": {
  "kernelspec": {
   "display_name": "Python 3 (ipykernel)",
   "language": "python",
   "name": "python3"
  },
  "language_info": {
   "codemirror_mode": {
    "name": "ipython",
    "version": 3
   },
   "file_extension": ".py",
   "mimetype": "text/x-python",
   "name": "python",
   "nbconvert_exporter": "python",
   "pygments_lexer": "ipython3",
   "version": "3.9.13"
  }
 },
 "nbformat": 4,
 "nbformat_minor": 5
}
