{
 "cells": [
  {
   "cell_type": "code",
   "execution_count": null,
   "id": "1a7ea086",
   "metadata": {},
   "outputs": [],
   "source": [
    "import streamlit as st\n",
    "import pandas as pd\n",
    "import plotly.express as px\n",
    "\n",
    "st.set_page_config(page_title=\"Wallet Behavior Dashboard\", layout=\"wide\")\n",
    "\n",
    "# Load data\n",
    "df = pd.read_csv(\"/Users/bahareh/Desktop/My_Job/BlochChain/Git/ml-in-crypto/03_Smart_Contract_Usage_Clustering/final_clustered_wallets.csv\")\n",
    "st.title(\"📊 Wallet Behavior Dashboard\")\n",
    "\n",
    "\n",
    "\n",
    "# Cluster distribution\n",
    "st.header(\"Cluster Distribution\")\n",
    "cluster_counts = df[\"cluster_jaccard\"].value_counts().sort_index().reset_index()\n",
    "cluster_counts.columns = [\"Cluster\", \"Count\"]\n",
    "st.plotly_chart(\n",
    "    px.bar(cluster_counts, x=\"Cluster\", y=\"Count\", text=\"Count\",\n",
    "           color=\"Cluster\", title=\"Number of Wallets per Cluster\")\n",
    ")\n",
    "\n",
    "# Most common values per cluster\n",
    "st.header(\"Top Features per Cluster\")\n",
    "features = df.columns.difference([\"FROM_ADDRESS\", \"cluster_jaccard\"])\n",
    "selected_feature = st.selectbox(\"Choose a feature to compare across clusters\", features)\n",
    "top_features = df.groupby(\"cluster_jaccard\")[selected_feature].agg(lambda x: x.value_counts().index[0]).reset_index()\n",
    "top_features.columns = [\"Cluster\", f\"Most Common: {selected_feature}\"]\n",
    "st.dataframe(top_features, use_container_width=True)\n",
    "\n",
    "# Explore a cluster in detail\n",
    "st.header(\"Explore Cluster Details\")\n",
    "selected_cluster = st.selectbox(\"Select a cluster\", sorted(df[\"cluster_jaccard\"].unique()))\n",
    "st.subheader(f\"Wallets in Cluster {selected_cluster}\")\n",
    "st.dataframe(df[df[\"cluster_jaccard\"] == selected_cluster].reset_index(drop=True), use_container_width=True)\n",
    "\n",
    "# Pie charts for selected cluster\n",
    "st.header(\"Feature Distributions in Selected Cluster\")\n",
    "col1, col2 = st.columns(2)\n",
    "with col1:\n",
    "    feature1 = st.selectbox(\"Feature 1\", features, key=\"f1\")\n",
    "    fig1 = px.pie(df[df[\"cluster_jaccard\"] == selected_cluster], names=feature1,\n",
    "                  title=f\"{feature1} Distribution (Cluster {selected_cluster})\")\n",
    "    st.plotly_chart(fig1)\n",
    "\n",
    "with col2:\n",
    "    feature2 = st.selectbox(\"Feature 2\", features, key=\"f2\")\n",
    "    fig2 = px.pie(df[df[\"cluster_jaccard\"] == selected_cluster], names=feature2,\n",
    "                  title=f\"{feature2} Distribution (Cluster {selected_cluster})\")\n",
    "    st.plotly_chart(fig2)\n",
    "\n",
    "st.markdown(\"---\")\n",
    "st.caption(\"Built with ❤️ using Streamlit and Plotly\")"
   ]
  }
 ],
 "metadata": {
  "kernelspec": {
   "display_name": "Python 3 (ipykernel)",
   "language": "python",
   "name": "python3"
  },
  "language_info": {
   "codemirror_mode": {
    "name": "ipython",
    "version": 3
   },
   "file_extension": ".py",
   "mimetype": "text/x-python",
   "name": "python",
   "nbconvert_exporter": "python",
   "pygments_lexer": "ipython3",
   "version": "3.9.13"
  }
 },
 "nbformat": 4,
 "nbformat_minor": 5
}
