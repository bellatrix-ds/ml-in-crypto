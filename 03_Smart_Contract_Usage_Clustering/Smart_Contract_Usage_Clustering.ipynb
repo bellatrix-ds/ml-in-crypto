{
 "cells": [
  {
   "cell_type": "code",
   "execution_count": 1,
   "id": "098b270a",
   "metadata": {},
   "outputs": [],
   "source": [
    "import pandas as pd\n",
    "import numpy as np"
   ]
  },
  {
   "cell_type": "code",
   "execution_count": 3,
   "id": "868740d4",
   "metadata": {},
   "outputs": [],
   "source": [
    "data = pd.read_csv('data.csv')"
   ]
  },
  {
   "cell_type": "code",
   "execution_count": 4,
   "id": "d60b61bc",
   "metadata": {},
   "outputs": [
    {
     "data": {
      "text/html": [
       "<div>\n",
       "<style scoped>\n",
       "    .dataframe tbody tr th:only-of-type {\n",
       "        vertical-align: middle;\n",
       "    }\n",
       "\n",
       "    .dataframe tbody tr th {\n",
       "        vertical-align: top;\n",
       "    }\n",
       "\n",
       "    .dataframe thead th {\n",
       "        text-align: right;\n",
       "    }\n",
       "</style>\n",
       "<table border=\"1\" class=\"dataframe\">\n",
       "  <thead>\n",
       "    <tr style=\"text-align: right;\">\n",
       "      <th></th>\n",
       "      <th>from_address</th>\n",
       "      <th>to_address</th>\n",
       "      <th>value</th>\n",
       "      <th>gas</th>\n",
       "      <th>gas_price</th>\n",
       "      <th>block_timestamp</th>\n",
       "      <th>transaction_hash</th>\n",
       "    </tr>\n",
       "  </thead>\n",
       "  <tbody>\n",
       "    <tr>\n",
       "      <th>0</th>\n",
       "      <td>0x1d80acdcae2257329557ae12c1d1fc21361def30</td>\n",
       "      <td>0xad3b67bca8935cb510c8d18bd45f0b94f54a968f</td>\n",
       "      <td>0</td>\n",
       "      <td>290427</td>\n",
       "      <td>12366879475</td>\n",
       "      <td>2024-01-25 04:04:59.000000 UTC</td>\n",
       "      <td>0xb865e943901c75e354a0996d7366d4eb8371927654f4...</td>\n",
       "    </tr>\n",
       "    <tr>\n",
       "      <th>1</th>\n",
       "      <td>0x1d80acdcae2257329557ae12c1d1fc21361def30</td>\n",
       "      <td>0xad3b67bca8935cb510c8d18bd45f0b94f54a968f</td>\n",
       "      <td>0</td>\n",
       "      <td>290427</td>\n",
       "      <td>12366879475</td>\n",
       "      <td>2024-01-25 04:04:59.000000 UTC</td>\n",
       "      <td>0xb865e943901c75e354a0996d7366d4eb8371927654f4...</td>\n",
       "    </tr>\n",
       "    <tr>\n",
       "      <th>2</th>\n",
       "      <td>0xc4c313291e03aed45259397ebc55a158bd2820a0</td>\n",
       "      <td>0x74c719a36ef628422213f7e8a5c6910fd4bcb25f</td>\n",
       "      <td>0</td>\n",
       "      <td>113374</td>\n",
       "      <td>10418920340</td>\n",
       "      <td>2024-01-25 04:16:47.000000 UTC</td>\n",
       "      <td>0xdb5f0289941bf9ee1d7f4c0501ad004043b2e11901f1...</td>\n",
       "    </tr>\n",
       "    <tr>\n",
       "      <th>3</th>\n",
       "      <td>0x55dcad916750c19c4ec69d65ff0317767b36ce90</td>\n",
       "      <td>0xad3b67bca8935cb510c8d18bd45f0b94f54a968f</td>\n",
       "      <td>0</td>\n",
       "      <td>529273</td>\n",
       "      <td>10488182632</td>\n",
       "      <td>2024-01-25 05:48:59.000000 UTC</td>\n",
       "      <td>0x80f8cfa70676b4500f99e833eee4a7dbdb3c5e056ded...</td>\n",
       "    </tr>\n",
       "    <tr>\n",
       "      <th>4</th>\n",
       "      <td>0x55dcad916750c19c4ec69d65ff0317767b36ce90</td>\n",
       "      <td>0xad3b67bca8935cb510c8d18bd45f0b94f54a968f</td>\n",
       "      <td>0</td>\n",
       "      <td>529273</td>\n",
       "      <td>10488182632</td>\n",
       "      <td>2024-01-25 05:48:59.000000 UTC</td>\n",
       "      <td>0x80f8cfa70676b4500f99e833eee4a7dbdb3c5e056ded...</td>\n",
       "    </tr>\n",
       "  </tbody>\n",
       "</table>\n",
       "</div>"
      ],
      "text/plain": [
       "                                 from_address  \\\n",
       "0  0x1d80acdcae2257329557ae12c1d1fc21361def30   \n",
       "1  0x1d80acdcae2257329557ae12c1d1fc21361def30   \n",
       "2  0xc4c313291e03aed45259397ebc55a158bd2820a0   \n",
       "3  0x55dcad916750c19c4ec69d65ff0317767b36ce90   \n",
       "4  0x55dcad916750c19c4ec69d65ff0317767b36ce90   \n",
       "\n",
       "                                   to_address value     gas    gas_price  \\\n",
       "0  0xad3b67bca8935cb510c8d18bd45f0b94f54a968f     0  290427  12366879475   \n",
       "1  0xad3b67bca8935cb510c8d18bd45f0b94f54a968f     0  290427  12366879475   \n",
       "2  0x74c719a36ef628422213f7e8a5c6910fd4bcb25f     0  113374  10418920340   \n",
       "3  0xad3b67bca8935cb510c8d18bd45f0b94f54a968f     0  529273  10488182632   \n",
       "4  0xad3b67bca8935cb510c8d18bd45f0b94f54a968f     0  529273  10488182632   \n",
       "\n",
       "                  block_timestamp  \\\n",
       "0  2024-01-25 04:04:59.000000 UTC   \n",
       "1  2024-01-25 04:04:59.000000 UTC   \n",
       "2  2024-01-25 04:16:47.000000 UTC   \n",
       "3  2024-01-25 05:48:59.000000 UTC   \n",
       "4  2024-01-25 05:48:59.000000 UTC   \n",
       "\n",
       "                                    transaction_hash  \n",
       "0  0xb865e943901c75e354a0996d7366d4eb8371927654f4...  \n",
       "1  0xb865e943901c75e354a0996d7366d4eb8371927654f4...  \n",
       "2  0xdb5f0289941bf9ee1d7f4c0501ad004043b2e11901f1...  \n",
       "3  0x80f8cfa70676b4500f99e833eee4a7dbdb3c5e056ded...  \n",
       "4  0x80f8cfa70676b4500f99e833eee4a7dbdb3c5e056ded...  "
      ]
     },
     "execution_count": 4,
     "metadata": {},
     "output_type": "execute_result"
    }
   ],
   "source": [
    "data.head()"
   ]
  },
  {
   "cell_type": "code",
   "execution_count": null,
   "id": "7069265e",
   "metadata": {},
   "outputs": [],
   "source": []
  }
 ],
 "metadata": {
  "kernelspec": {
   "display_name": "Python 3 (ipykernel)",
   "language": "python",
   "name": "python3"
  },
  "language_info": {
   "codemirror_mode": {
    "name": "ipython",
    "version": 3
   },
   "file_extension": ".py",
   "mimetype": "text/x-python",
   "name": "python",
   "nbconvert_exporter": "python",
   "pygments_lexer": "ipython3",
   "version": "3.9.13"
  }
 },
 "nbformat": 4,
 "nbformat_minor": 5
}
