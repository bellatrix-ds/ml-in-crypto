{
 "cells": [
  {
   "cell_type": "markdown",
   "id": "b654735f",
   "metadata": {},
   "source": [
    "<br>\n",
    "## 🎯 هدف:\n",
    "\n",
    "خوشه‌بندی کاربران بر اساس نحوه تعامل‌شون با اسمارت کانترکت‌ها در یک بازه زمانی مشخص، با درنظر گرفتن:\n",
    "<br> •\tنوع کانترکت‌ها (DeFi, NFT, DEX, Staking, Gaming)\n",
    "<br> •\tفرکانس تراکنش‌ها\n",
    "<br> •\tترتیب زمانی تعامل‌ها (session patterns)\n",
    "\n",
    "    \n",
    "    \n",
    "## 🔧 مراحل اجرایی پروژه:\n",
    "1. \tدریافت تراکنش‌های کاربران روی EVM\n",
    "2. ساخت Feature Matrix\n",
    "3. نرمال‌سازی فیچرها (StandardScaler\n",
    "4. حذف outlierها (مثل کاربران بسیار پرتراکنش)\n",
    "5. clustering with KMeans\n",
    "6. clustering with DBSCAN\n",
    "7. clustering with HDBSCAN\n",
    "8. \tاستفاده از UMAP یا t-SNE برای visualization دو بعدی\n",
    "9. تحلیل اینکه هر خوشه چه ویژگی‌ای دارد\n",
    "10. بررسی composition هر خوشه (مثلاً درصد تعامل با NFT vs DeFi)\n",
    "11. نتایج و کاربردها:\n",
    "\t<br> •\tخروجی به عنوان segmentation برای marketing / product targeting\n",
    "\t<br> •\tتحلیل قراردادهایی که بیشتر در خوشه‌های فعال بوده‌اند\n",
    "\t<br> •\tپیشنهاد به VCها برای سرمایه‌گذاری روی کانترکت‌هایی با بیشترین سهم از power users\n"
   ]
  },
  {
   "cell_type": "code",
   "execution_count": 279,
   "id": "6af1ed12",
   "metadata": {},
   "outputs": [],
   "source": [
    "# 📊 Data Handling\n",
    "import pandas as pd\n",
    "import numpy as np\n",
    "\n",
    "# 📈 Visualization\n",
    "import matplotlib.pyplot as plt\n",
    "import seaborn as sns\n",
    "import plotly.graph_objects as go\n",
    "\n",
    "# ⚙️ Preprocessing & Scaling\n",
    "from sklearn.preprocessing import MinMaxScaler\n",
    "from sklearn.preprocessing import StandardScaler\n",
    "\n",
    "# 📈 Analysis\n",
    "import scipy.stats as stats\n",
    "from sklearn.preprocessing import StandardScaler\n",
    "from sklearn.feature_selection import VarianceThreshold\n",
    "from sklearn.decomposition import PCA\n",
    "\n",
    "# 🧠 Modeling\n",
    "from sklearn.cluster import KMeans, DBSCAN\n",
    "import hdbscan\n",
    "from sklearn.metrics import silhouette_score"
   ]
  },
  {
   "cell_type": "code",
   "execution_count": 214,
   "id": "ed66bf1d",
   "metadata": {},
   "outputs": [],
   "source": [
    "data = pd.read_csv('Transactions.csv')"
   ]
  },
  {
   "cell_type": "markdown",
   "id": "c1f25ac4",
   "metadata": {},
   "source": [
    "# EDA"
   ]
  },
  {
   "cell_type": "code",
   "execution_count": 215,
   "id": "2bff557a",
   "metadata": {},
   "outputs": [
    {
     "data": {
      "text/html": [
       "<div>\n",
       "<style scoped>\n",
       "    .dataframe tbody tr th:only-of-type {\n",
       "        vertical-align: middle;\n",
       "    }\n",
       "\n",
       "    .dataframe tbody tr th {\n",
       "        vertical-align: top;\n",
       "    }\n",
       "\n",
       "    .dataframe thead th {\n",
       "        text-align: right;\n",
       "    }\n",
       "</style>\n",
       "<table border=\"1\" class=\"dataframe\">\n",
       "  <thead>\n",
       "    <tr style=\"text-align: right;\">\n",
       "      <th></th>\n",
       "      <th>FROM_ADDRESS</th>\n",
       "      <th>TO_ADDRESS</th>\n",
       "      <th>VALUE</th>\n",
       "      <th>GAS</th>\n",
       "      <th>GAS_USED</th>\n",
       "      <th>BLOCK_TIMESTAMP</th>\n",
       "      <th>TX_HASH</th>\n",
       "      <th>FUNCTION_NAME</th>\n",
       "      <th>TYPE</th>\n",
       "    </tr>\n",
       "  </thead>\n",
       "  <tbody>\n",
       "    <tr>\n",
       "      <th>66210</th>\n",
       "      <td>0x0000000000000068f116a894984e2db1123eb395</td>\n",
       "      <td>0x000056f7000000ece9003ca63978907a00ffd100</td>\n",
       "      <td>0.0</td>\n",
       "      <td>496693.0</td>\n",
       "      <td>10104.0</td>\n",
       "      <td>2024-09-25 00:17:11</td>\n",
       "      <td>0xce6ce49a75ff1df05cefb70ed12e6c8e645a07395c31...</td>\n",
       "      <td>authorizeOrder</td>\n",
       "      <td>CALL</td>\n",
       "    </tr>\n",
       "    <tr>\n",
       "      <th>41083</th>\n",
       "      <td>0x0000000000000068f116a894984e2db1123eb395</td>\n",
       "      <td>0x1e0049783f008a0085193e00003d00cd54003c71</td>\n",
       "      <td>0.0</td>\n",
       "      <td>94123.0</td>\n",
       "      <td>80185.0</td>\n",
       "      <td>2024-09-25 03:35:47</td>\n",
       "      <td>0xb4251303dd607d82c309529affe7b78cb132a04bad8d...</td>\n",
       "      <td>execute</td>\n",
       "      <td>CALL</td>\n",
       "    </tr>\n",
       "    <tr>\n",
       "      <th>2518</th>\n",
       "      <td>0x0000000000000068f116a894984e2db1123eb395</td>\n",
       "      <td>0x1e0049783f008a0085193e00003d00cd54003c71</td>\n",
       "      <td>0.0</td>\n",
       "      <td>132670.0</td>\n",
       "      <td>55713.0</td>\n",
       "      <td>2024-09-25 03:50:35</td>\n",
       "      <td>0xd265d449efb2b05801935d76a0ee5ab80127af50f941...</td>\n",
       "      <td>execute</td>\n",
       "      <td>CALL</td>\n",
       "    </tr>\n",
       "    <tr>\n",
       "      <th>11427</th>\n",
       "      <td>0x0000000000000068f116a894984e2db1123eb395</td>\n",
       "      <td>0x1e0049783f008a0085193e00003d00cd54003c71</td>\n",
       "      <td>0.0</td>\n",
       "      <td>101573.0</td>\n",
       "      <td>42176.0</td>\n",
       "      <td>2024-09-25 04:00:11</td>\n",
       "      <td>0xcf81214c433d453ce315039534d1d760ffb450bca06c...</td>\n",
       "      <td>execute</td>\n",
       "      <td>CALL</td>\n",
       "    </tr>\n",
       "    <tr>\n",
       "      <th>97931</th>\n",
       "      <td>0x0000000000000068f116a894984e2db1123eb395</td>\n",
       "      <td>0x1e0049783f008a0085193e00003d00cd54003c71</td>\n",
       "      <td>0.0</td>\n",
       "      <td>138015.0</td>\n",
       "      <td>49248.0</td>\n",
       "      <td>2024-09-25 04:07:11</td>\n",
       "      <td>0xfec1b2e6a7936bc0c14d06542ce1873d8491eca33ca7...</td>\n",
       "      <td>execute</td>\n",
       "      <td>CALL</td>\n",
       "    </tr>\n",
       "  </tbody>\n",
       "</table>\n",
       "</div>"
      ],
      "text/plain": [
       "                                     FROM_ADDRESS  \\\n",
       "66210  0x0000000000000068f116a894984e2db1123eb395   \n",
       "41083  0x0000000000000068f116a894984e2db1123eb395   \n",
       "2518   0x0000000000000068f116a894984e2db1123eb395   \n",
       "11427  0x0000000000000068f116a894984e2db1123eb395   \n",
       "97931  0x0000000000000068f116a894984e2db1123eb395   \n",
       "\n",
       "                                       TO_ADDRESS  VALUE       GAS  GAS_USED  \\\n",
       "66210  0x000056f7000000ece9003ca63978907a00ffd100    0.0  496693.0   10104.0   \n",
       "41083  0x1e0049783f008a0085193e00003d00cd54003c71    0.0   94123.0   80185.0   \n",
       "2518   0x1e0049783f008a0085193e00003d00cd54003c71    0.0  132670.0   55713.0   \n",
       "11427  0x1e0049783f008a0085193e00003d00cd54003c71    0.0  101573.0   42176.0   \n",
       "97931  0x1e0049783f008a0085193e00003d00cd54003c71    0.0  138015.0   49248.0   \n",
       "\n",
       "          BLOCK_TIMESTAMP                                            TX_HASH  \\\n",
       "66210 2024-09-25 00:17:11  0xce6ce49a75ff1df05cefb70ed12e6c8e645a07395c31...   \n",
       "41083 2024-09-25 03:35:47  0xb4251303dd607d82c309529affe7b78cb132a04bad8d...   \n",
       "2518  2024-09-25 03:50:35  0xd265d449efb2b05801935d76a0ee5ab80127af50f941...   \n",
       "11427 2024-09-25 04:00:11  0xcf81214c433d453ce315039534d1d760ffb450bca06c...   \n",
       "97931 2024-09-25 04:07:11  0xfec1b2e6a7936bc0c14d06542ce1873d8491eca33ca7...   \n",
       "\n",
       "        FUNCTION_NAME  TYPE  \n",
       "66210  authorizeOrder  CALL  \n",
       "41083         execute  CALL  \n",
       "2518          execute  CALL  \n",
       "11427         execute  CALL  \n",
       "97931         execute  CALL  "
      ]
     },
     "execution_count": 215,
     "metadata": {},
     "output_type": "execute_result"
    }
   ],
   "source": [
    "df = data.copy()\n",
    "df['BLOCK_TIMESTAMP'] = pd.to_datetime(df['BLOCK_TIMESTAMP'])\n",
    "df = df.sort_values(by=['FROM_ADDRESS', 'BLOCK_TIMESTAMP'])\n",
    "df.head()"
   ]
  },
  {
   "cell_type": "code",
   "execution_count": 216,
   "id": "17854e78",
   "metadata": {},
   "outputs": [],
   "source": [
    "# df.groupby(['FROM_ADDRESS','TO_ADDRESS'])['TX_HASH'].count()\n",
    "# df.groupby(['FUNCTION_NAME'])['TX_HASH'].count()\n",
    "# data['FUNCTION_NAME'].value_counts().head(40)"
   ]
  },
  {
   "cell_type": "code",
   "execution_count": 217,
   "id": "186f619c",
   "metadata": {},
   "outputs": [],
   "source": [
    "# define category & sub category\n",
    "function_mapping = {\n",
    "    'swap': ('DeFi', 'DEX'),\n",
    "    'swapExactETHForTokens': ('DeFi', 'DEX'),\n",
    "    'swapExactETHForTokensSupportingFeeOnTransferTokens': ('DeFi', 'DEX'),\n",
    "    'swapExactTokensForETHSupportingFeeOnTransferTokens': ('DeFi', 'DEX'),\n",
    "    'uniswapV3SwapCallback': ('DeFi', 'DEX'),\n",
    "\n",
    "    'transfer': ('DeFi', 'Token Transfer'),\n",
    "    'transferFrom': ('DeFi', 'Token Transfer'),\n",
    "    'approve': ('DeFi', 'Token Transfer'),\n",
    "    'allowance': ('DeFi', 'Token Transfer'),\n",
    "    'balanceOf': ('DeFi', 'Token Transfer'),\n",
    "\n",
    "    'deposit': ('DeFi', 'Lending'),\n",
    "    'withdraw': ('DeFi', 'Lending'),\n",
    "\n",
    "    'getReserves': ('DeFi', 'Liquidity Pools'),\n",
    "    'token0': ('DeFi', 'Liquidity Pools'),\n",
    "    'token1': ('DeFi', 'Liquidity Pools'),\n",
    "    'totalSupply': ('DeFi', 'Token Metadata'),\n",
    "    'decimals': ('DeFi', 'Token Metadata'),\n",
    "\n",
    "    'latestRoundData': ('Infrastructure', 'Oracle'),\n",
    "    'latestAnswer': ('Infrastructure', 'Oracle'),\n",
    "\n",
    "    'execute': ('Infrastructure', 'Smart Wallet'),\n",
    "    'executeDelegateCall': ('Infrastructure', 'Smart Wallet'),\n",
    "    'router': ('Infrastructure', 'Smart Wallet'),\n",
    "    'WETH': ('Infrastructure', 'Smart Wallet'),\n",
    "    'implementation': ('Infrastructure', 'Smart Wallet'),\n",
    "\n",
    "    'resolve': ('Infrastructure', 'Proxy'),\n",
    "    'getApp': ('Infrastructure', 'Proxy'),\n",
    "    'getProvider': ('Infrastructure', 'Proxy'),\n",
    "\n",
    "    'claimTokens': ('Rewards', 'Airdrop'),\n",
    "    'mint': ('Rewards', 'Airdrop'),\n",
    "    'permit': ('Rewards', 'Airdrop'),\n",
    "    'claimMintRewardAndShare': ('Rewards', 'Airdrop'),\n",
    "    'callClaimMintReward': ('Rewards', 'Airdrop'),\n",
    "\n",
    "    'proposeBlock': ('Governance', 'Staking / L2 Infra'),\n",
    "    'proveBlock': ('Governance', 'Staking / L2 Infra'),\n",
    "    'powerDown': ('Governance', 'Staking / L2 Infra'),\n",
    "\n",
    "    'transform': ('Utility', 'Other'),\n",
    "    'fee': ('Utility', 'Other'),\n",
    "    'max': ('Utility', 'Other'),\n",
    "    'min': ('Utility', 'Other'),\n",
    "}\n",
    "\n",
    "default_category = ('Other', 'Uncategorized')\n",
    "\n",
    "df[['category', 'sub_category']] = df['FUNCTION_NAME'].apply(\n",
    "    lambda f: pd.Series(function_mapping.get(f, default_category))\n",
    ")"
   ]
  },
  {
   "cell_type": "code",
   "execution_count": 218,
   "id": "aa5c5d53",
   "metadata": {},
   "outputs": [
    {
     "data": {
      "text/html": [
       "<div>\n",
       "<style scoped>\n",
       "    .dataframe tbody tr th:only-of-type {\n",
       "        vertical-align: middle;\n",
       "    }\n",
       "\n",
       "    .dataframe tbody tr th {\n",
       "        vertical-align: top;\n",
       "    }\n",
       "\n",
       "    .dataframe thead th {\n",
       "        text-align: right;\n",
       "    }\n",
       "</style>\n",
       "<table border=\"1\" class=\"dataframe\">\n",
       "  <thead>\n",
       "    <tr style=\"text-align: right;\">\n",
       "      <th></th>\n",
       "      <th>FROM_ADDRESS</th>\n",
       "      <th>TO_ADDRESS</th>\n",
       "      <th>VALUE</th>\n",
       "      <th>GAS</th>\n",
       "      <th>GAS_USED</th>\n",
       "      <th>BLOCK_TIMESTAMP</th>\n",
       "      <th>TX_HASH</th>\n",
       "      <th>FUNCTION_NAME</th>\n",
       "      <th>TYPE</th>\n",
       "      <th>category</th>\n",
       "      <th>sub_category</th>\n",
       "    </tr>\n",
       "  </thead>\n",
       "  <tbody>\n",
       "    <tr>\n",
       "      <th>66210</th>\n",
       "      <td>0x0000000000000068f116a894984e2db1123eb395</td>\n",
       "      <td>0x000056f7000000ece9003ca63978907a00ffd100</td>\n",
       "      <td>0.0</td>\n",
       "      <td>496693.0</td>\n",
       "      <td>10104.0</td>\n",
       "      <td>2024-09-25 00:17:11</td>\n",
       "      <td>0xce6ce49a75ff1df05cefb70ed12e6c8e645a07395c31...</td>\n",
       "      <td>authorizeOrder</td>\n",
       "      <td>CALL</td>\n",
       "      <td>Other</td>\n",
       "      <td>Uncategorized</td>\n",
       "    </tr>\n",
       "    <tr>\n",
       "      <th>41083</th>\n",
       "      <td>0x0000000000000068f116a894984e2db1123eb395</td>\n",
       "      <td>0x1e0049783f008a0085193e00003d00cd54003c71</td>\n",
       "      <td>0.0</td>\n",
       "      <td>94123.0</td>\n",
       "      <td>80185.0</td>\n",
       "      <td>2024-09-25 03:35:47</td>\n",
       "      <td>0xb4251303dd607d82c309529affe7b78cb132a04bad8d...</td>\n",
       "      <td>execute</td>\n",
       "      <td>CALL</td>\n",
       "      <td>Infrastructure</td>\n",
       "      <td>Smart Wallet</td>\n",
       "    </tr>\n",
       "    <tr>\n",
       "      <th>2518</th>\n",
       "      <td>0x0000000000000068f116a894984e2db1123eb395</td>\n",
       "      <td>0x1e0049783f008a0085193e00003d00cd54003c71</td>\n",
       "      <td>0.0</td>\n",
       "      <td>132670.0</td>\n",
       "      <td>55713.0</td>\n",
       "      <td>2024-09-25 03:50:35</td>\n",
       "      <td>0xd265d449efb2b05801935d76a0ee5ab80127af50f941...</td>\n",
       "      <td>execute</td>\n",
       "      <td>CALL</td>\n",
       "      <td>Infrastructure</td>\n",
       "      <td>Smart Wallet</td>\n",
       "    </tr>\n",
       "    <tr>\n",
       "      <th>11427</th>\n",
       "      <td>0x0000000000000068f116a894984e2db1123eb395</td>\n",
       "      <td>0x1e0049783f008a0085193e00003d00cd54003c71</td>\n",
       "      <td>0.0</td>\n",
       "      <td>101573.0</td>\n",
       "      <td>42176.0</td>\n",
       "      <td>2024-09-25 04:00:11</td>\n",
       "      <td>0xcf81214c433d453ce315039534d1d760ffb450bca06c...</td>\n",
       "      <td>execute</td>\n",
       "      <td>CALL</td>\n",
       "      <td>Infrastructure</td>\n",
       "      <td>Smart Wallet</td>\n",
       "    </tr>\n",
       "    <tr>\n",
       "      <th>97931</th>\n",
       "      <td>0x0000000000000068f116a894984e2db1123eb395</td>\n",
       "      <td>0x1e0049783f008a0085193e00003d00cd54003c71</td>\n",
       "      <td>0.0</td>\n",
       "      <td>138015.0</td>\n",
       "      <td>49248.0</td>\n",
       "      <td>2024-09-25 04:07:11</td>\n",
       "      <td>0xfec1b2e6a7936bc0c14d06542ce1873d8491eca33ca7...</td>\n",
       "      <td>execute</td>\n",
       "      <td>CALL</td>\n",
       "      <td>Infrastructure</td>\n",
       "      <td>Smart Wallet</td>\n",
       "    </tr>\n",
       "  </tbody>\n",
       "</table>\n",
       "</div>"
      ],
      "text/plain": [
       "                                     FROM_ADDRESS  \\\n",
       "66210  0x0000000000000068f116a894984e2db1123eb395   \n",
       "41083  0x0000000000000068f116a894984e2db1123eb395   \n",
       "2518   0x0000000000000068f116a894984e2db1123eb395   \n",
       "11427  0x0000000000000068f116a894984e2db1123eb395   \n",
       "97931  0x0000000000000068f116a894984e2db1123eb395   \n",
       "\n",
       "                                       TO_ADDRESS  VALUE       GAS  GAS_USED  \\\n",
       "66210  0x000056f7000000ece9003ca63978907a00ffd100    0.0  496693.0   10104.0   \n",
       "41083  0x1e0049783f008a0085193e00003d00cd54003c71    0.0   94123.0   80185.0   \n",
       "2518   0x1e0049783f008a0085193e00003d00cd54003c71    0.0  132670.0   55713.0   \n",
       "11427  0x1e0049783f008a0085193e00003d00cd54003c71    0.0  101573.0   42176.0   \n",
       "97931  0x1e0049783f008a0085193e00003d00cd54003c71    0.0  138015.0   49248.0   \n",
       "\n",
       "          BLOCK_TIMESTAMP                                            TX_HASH  \\\n",
       "66210 2024-09-25 00:17:11  0xce6ce49a75ff1df05cefb70ed12e6c8e645a07395c31...   \n",
       "41083 2024-09-25 03:35:47  0xb4251303dd607d82c309529affe7b78cb132a04bad8d...   \n",
       "2518  2024-09-25 03:50:35  0xd265d449efb2b05801935d76a0ee5ab80127af50f941...   \n",
       "11427 2024-09-25 04:00:11  0xcf81214c433d453ce315039534d1d760ffb450bca06c...   \n",
       "97931 2024-09-25 04:07:11  0xfec1b2e6a7936bc0c14d06542ce1873d8491eca33ca7...   \n",
       "\n",
       "        FUNCTION_NAME  TYPE        category   sub_category  \n",
       "66210  authorizeOrder  CALL           Other  Uncategorized  \n",
       "41083         execute  CALL  Infrastructure   Smart Wallet  \n",
       "2518          execute  CALL  Infrastructure   Smart Wallet  \n",
       "11427         execute  CALL  Infrastructure   Smart Wallet  \n",
       "97931         execute  CALL  Infrastructure   Smart Wallet  "
      ]
     },
     "execution_count": 218,
     "metadata": {},
     "output_type": "execute_result"
    }
   ],
   "source": [
    "df.head()"
   ]
  },
  {
   "cell_type": "code",
   "execution_count": 219,
   "id": "8f5386e7",
   "metadata": {},
   "outputs": [
    {
     "data": {
      "text/plain": [
       "DeFi              77982\n",
       "Other             14458\n",
       "Infrastructure     4597\n",
       "Rewards            1338\n",
       "Utility            1077\n",
       "Governance          549\n",
       "Name: category, dtype: int64"
      ]
     },
     "execution_count": 219,
     "metadata": {},
     "output_type": "execute_result"
    }
   ],
   "source": [
    "df['category'].value_counts()"
   ]
  },
  {
   "cell_type": "code",
   "execution_count": 224,
   "id": "4a2a0607",
   "metadata": {},
   "outputs": [
    {
     "data": {
      "application/vnd.plotly.v1+json": {
       "config": {
        "plotlyServerURL": "https://plot.ly"
       },
       "data": [
        {
         "name": "GAS",
         "type": "bar",
         "x": [
          "DeFi",
          "Infrastructure",
          "Other",
          "Rewards",
          "Governance",
          "Utility"
         ],
         "y": [
          263042.4113898079,
          652696.0128344572,
          858799.326969634,
          2361872.538863976,
          4252739.030965392,
          4264480.855153203
         ]
        },
        {
         "name": "GAS_USED",
         "type": "bar",
         "x": [
          "DeFi",
          "Infrastructure",
          "Other",
          "Rewards",
          "Governance",
          "Utility"
         ],
         "y": [
          21580.706675899568,
          68526.81531433544,
          65770.47741578474,
          59326.83931240658,
          77192.85610200364,
          13392.47818012999
         ]
        }
       ],
       "layout": {
        "barmode": "group",
        "template": {
         "data": {
          "bar": [
           {
            "error_x": {
             "color": "#2a3f5f"
            },
            "error_y": {
             "color": "#2a3f5f"
            },
            "marker": {
             "line": {
              "color": "#E5ECF6",
              "width": 0.5
             },
             "pattern": {
              "fillmode": "overlay",
              "size": 10,
              "solidity": 0.2
             }
            },
            "type": "bar"
           }
          ],
          "barpolar": [
           {
            "marker": {
             "line": {
              "color": "#E5ECF6",
              "width": 0.5
             },
             "pattern": {
              "fillmode": "overlay",
              "size": 10,
              "solidity": 0.2
             }
            },
            "type": "barpolar"
           }
          ],
          "carpet": [
           {
            "aaxis": {
             "endlinecolor": "#2a3f5f",
             "gridcolor": "white",
             "linecolor": "white",
             "minorgridcolor": "white",
             "startlinecolor": "#2a3f5f"
            },
            "baxis": {
             "endlinecolor": "#2a3f5f",
             "gridcolor": "white",
             "linecolor": "white",
             "minorgridcolor": "white",
             "startlinecolor": "#2a3f5f"
            },
            "type": "carpet"
           }
          ],
          "choropleth": [
           {
            "colorbar": {
             "outlinewidth": 0,
             "ticks": ""
            },
            "type": "choropleth"
           }
          ],
          "contour": [
           {
            "colorbar": {
             "outlinewidth": 0,
             "ticks": ""
            },
            "colorscale": [
             [
              0,
              "#0d0887"
             ],
             [
              0.1111111111111111,
              "#46039f"
             ],
             [
              0.2222222222222222,
              "#7201a8"
             ],
             [
              0.3333333333333333,
              "#9c179e"
             ],
             [
              0.4444444444444444,
              "#bd3786"
             ],
             [
              0.5555555555555556,
              "#d8576b"
             ],
             [
              0.6666666666666666,
              "#ed7953"
             ],
             [
              0.7777777777777778,
              "#fb9f3a"
             ],
             [
              0.8888888888888888,
              "#fdca26"
             ],
             [
              1,
              "#f0f921"
             ]
            ],
            "type": "contour"
           }
          ],
          "contourcarpet": [
           {
            "colorbar": {
             "outlinewidth": 0,
             "ticks": ""
            },
            "type": "contourcarpet"
           }
          ],
          "heatmap": [
           {
            "colorbar": {
             "outlinewidth": 0,
             "ticks": ""
            },
            "colorscale": [
             [
              0,
              "#0d0887"
             ],
             [
              0.1111111111111111,
              "#46039f"
             ],
             [
              0.2222222222222222,
              "#7201a8"
             ],
             [
              0.3333333333333333,
              "#9c179e"
             ],
             [
              0.4444444444444444,
              "#bd3786"
             ],
             [
              0.5555555555555556,
              "#d8576b"
             ],
             [
              0.6666666666666666,
              "#ed7953"
             ],
             [
              0.7777777777777778,
              "#fb9f3a"
             ],
             [
              0.8888888888888888,
              "#fdca26"
             ],
             [
              1,
              "#f0f921"
             ]
            ],
            "type": "heatmap"
           }
          ],
          "heatmapgl": [
           {
            "colorbar": {
             "outlinewidth": 0,
             "ticks": ""
            },
            "colorscale": [
             [
              0,
              "#0d0887"
             ],
             [
              0.1111111111111111,
              "#46039f"
             ],
             [
              0.2222222222222222,
              "#7201a8"
             ],
             [
              0.3333333333333333,
              "#9c179e"
             ],
             [
              0.4444444444444444,
              "#bd3786"
             ],
             [
              0.5555555555555556,
              "#d8576b"
             ],
             [
              0.6666666666666666,
              "#ed7953"
             ],
             [
              0.7777777777777778,
              "#fb9f3a"
             ],
             [
              0.8888888888888888,
              "#fdca26"
             ],
             [
              1,
              "#f0f921"
             ]
            ],
            "type": "heatmapgl"
           }
          ],
          "histogram": [
           {
            "marker": {
             "pattern": {
              "fillmode": "overlay",
              "size": 10,
              "solidity": 0.2
             }
            },
            "type": "histogram"
           }
          ],
          "histogram2d": [
           {
            "colorbar": {
             "outlinewidth": 0,
             "ticks": ""
            },
            "colorscale": [
             [
              0,
              "#0d0887"
             ],
             [
              0.1111111111111111,
              "#46039f"
             ],
             [
              0.2222222222222222,
              "#7201a8"
             ],
             [
              0.3333333333333333,
              "#9c179e"
             ],
             [
              0.4444444444444444,
              "#bd3786"
             ],
             [
              0.5555555555555556,
              "#d8576b"
             ],
             [
              0.6666666666666666,
              "#ed7953"
             ],
             [
              0.7777777777777778,
              "#fb9f3a"
             ],
             [
              0.8888888888888888,
              "#fdca26"
             ],
             [
              1,
              "#f0f921"
             ]
            ],
            "type": "histogram2d"
           }
          ],
          "histogram2dcontour": [
           {
            "colorbar": {
             "outlinewidth": 0,
             "ticks": ""
            },
            "colorscale": [
             [
              0,
              "#0d0887"
             ],
             [
              0.1111111111111111,
              "#46039f"
             ],
             [
              0.2222222222222222,
              "#7201a8"
             ],
             [
              0.3333333333333333,
              "#9c179e"
             ],
             [
              0.4444444444444444,
              "#bd3786"
             ],
             [
              0.5555555555555556,
              "#d8576b"
             ],
             [
              0.6666666666666666,
              "#ed7953"
             ],
             [
              0.7777777777777778,
              "#fb9f3a"
             ],
             [
              0.8888888888888888,
              "#fdca26"
             ],
             [
              1,
              "#f0f921"
             ]
            ],
            "type": "histogram2dcontour"
           }
          ],
          "mesh3d": [
           {
            "colorbar": {
             "outlinewidth": 0,
             "ticks": ""
            },
            "type": "mesh3d"
           }
          ],
          "parcoords": [
           {
            "line": {
             "colorbar": {
              "outlinewidth": 0,
              "ticks": ""
             }
            },
            "type": "parcoords"
           }
          ],
          "pie": [
           {
            "automargin": true,
            "type": "pie"
           }
          ],
          "scatter": [
           {
            "fillpattern": {
             "fillmode": "overlay",
             "size": 10,
             "solidity": 0.2
            },
            "type": "scatter"
           }
          ],
          "scatter3d": [
           {
            "line": {
             "colorbar": {
              "outlinewidth": 0,
              "ticks": ""
             }
            },
            "marker": {
             "colorbar": {
              "outlinewidth": 0,
              "ticks": ""
             }
            },
            "type": "scatter3d"
           }
          ],
          "scattercarpet": [
           {
            "marker": {
             "colorbar": {
              "outlinewidth": 0,
              "ticks": ""
             }
            },
            "type": "scattercarpet"
           }
          ],
          "scattergeo": [
           {
            "marker": {
             "colorbar": {
              "outlinewidth": 0,
              "ticks": ""
             }
            },
            "type": "scattergeo"
           }
          ],
          "scattergl": [
           {
            "marker": {
             "colorbar": {
              "outlinewidth": 0,
              "ticks": ""
             }
            },
            "type": "scattergl"
           }
          ],
          "scattermapbox": [
           {
            "marker": {
             "colorbar": {
              "outlinewidth": 0,
              "ticks": ""
             }
            },
            "type": "scattermapbox"
           }
          ],
          "scatterpolar": [
           {
            "marker": {
             "colorbar": {
              "outlinewidth": 0,
              "ticks": ""
             }
            },
            "type": "scatterpolar"
           }
          ],
          "scatterpolargl": [
           {
            "marker": {
             "colorbar": {
              "outlinewidth": 0,
              "ticks": ""
             }
            },
            "type": "scatterpolargl"
           }
          ],
          "scatterternary": [
           {
            "marker": {
             "colorbar": {
              "outlinewidth": 0,
              "ticks": ""
             }
            },
            "type": "scatterternary"
           }
          ],
          "surface": [
           {
            "colorbar": {
             "outlinewidth": 0,
             "ticks": ""
            },
            "colorscale": [
             [
              0,
              "#0d0887"
             ],
             [
              0.1111111111111111,
              "#46039f"
             ],
             [
              0.2222222222222222,
              "#7201a8"
             ],
             [
              0.3333333333333333,
              "#9c179e"
             ],
             [
              0.4444444444444444,
              "#bd3786"
             ],
             [
              0.5555555555555556,
              "#d8576b"
             ],
             [
              0.6666666666666666,
              "#ed7953"
             ],
             [
              0.7777777777777778,
              "#fb9f3a"
             ],
             [
              0.8888888888888888,
              "#fdca26"
             ],
             [
              1,
              "#f0f921"
             ]
            ],
            "type": "surface"
           }
          ],
          "table": [
           {
            "cells": {
             "fill": {
              "color": "#EBF0F8"
             },
             "line": {
              "color": "white"
             }
            },
            "header": {
             "fill": {
              "color": "#C8D4E3"
             },
             "line": {
              "color": "white"
             }
            },
            "type": "table"
           }
          ]
         },
         "layout": {
          "annotationdefaults": {
           "arrowcolor": "#2a3f5f",
           "arrowhead": 0,
           "arrowwidth": 1
          },
          "autotypenumbers": "strict",
          "coloraxis": {
           "colorbar": {
            "outlinewidth": 0,
            "ticks": ""
           }
          },
          "colorscale": {
           "diverging": [
            [
             0,
             "#8e0152"
            ],
            [
             0.1,
             "#c51b7d"
            ],
            [
             0.2,
             "#de77ae"
            ],
            [
             0.3,
             "#f1b6da"
            ],
            [
             0.4,
             "#fde0ef"
            ],
            [
             0.5,
             "#f7f7f7"
            ],
            [
             0.6,
             "#e6f5d0"
            ],
            [
             0.7,
             "#b8e186"
            ],
            [
             0.8,
             "#7fbc41"
            ],
            [
             0.9,
             "#4d9221"
            ],
            [
             1,
             "#276419"
            ]
           ],
           "sequential": [
            [
             0,
             "#0d0887"
            ],
            [
             0.1111111111111111,
             "#46039f"
            ],
            [
             0.2222222222222222,
             "#7201a8"
            ],
            [
             0.3333333333333333,
             "#9c179e"
            ],
            [
             0.4444444444444444,
             "#bd3786"
            ],
            [
             0.5555555555555556,
             "#d8576b"
            ],
            [
             0.6666666666666666,
             "#ed7953"
            ],
            [
             0.7777777777777778,
             "#fb9f3a"
            ],
            [
             0.8888888888888888,
             "#fdca26"
            ],
            [
             1,
             "#f0f921"
            ]
           ],
           "sequentialminus": [
            [
             0,
             "#0d0887"
            ],
            [
             0.1111111111111111,
             "#46039f"
            ],
            [
             0.2222222222222222,
             "#7201a8"
            ],
            [
             0.3333333333333333,
             "#9c179e"
            ],
            [
             0.4444444444444444,
             "#bd3786"
            ],
            [
             0.5555555555555556,
             "#d8576b"
            ],
            [
             0.6666666666666666,
             "#ed7953"
            ],
            [
             0.7777777777777778,
             "#fb9f3a"
            ],
            [
             0.8888888888888888,
             "#fdca26"
            ],
            [
             1,
             "#f0f921"
            ]
           ]
          },
          "colorway": [
           "#636efa",
           "#EF553B",
           "#00cc96",
           "#ab63fa",
           "#FFA15A",
           "#19d3f3",
           "#FF6692",
           "#B6E880",
           "#FF97FF",
           "#FECB52"
          ],
          "font": {
           "color": "#2a3f5f"
          },
          "geo": {
           "bgcolor": "white",
           "lakecolor": "white",
           "landcolor": "#E5ECF6",
           "showlakes": true,
           "showland": true,
           "subunitcolor": "white"
          },
          "hoverlabel": {
           "align": "left"
          },
          "hovermode": "closest",
          "mapbox": {
           "style": "light"
          },
          "paper_bgcolor": "white",
          "plot_bgcolor": "#E5ECF6",
          "polar": {
           "angularaxis": {
            "gridcolor": "white",
            "linecolor": "white",
            "ticks": ""
           },
           "bgcolor": "#E5ECF6",
           "radialaxis": {
            "gridcolor": "white",
            "linecolor": "white",
            "ticks": ""
           }
          },
          "scene": {
           "xaxis": {
            "backgroundcolor": "#E5ECF6",
            "gridcolor": "white",
            "gridwidth": 2,
            "linecolor": "white",
            "showbackground": true,
            "ticks": "",
            "zerolinecolor": "white"
           },
           "yaxis": {
            "backgroundcolor": "#E5ECF6",
            "gridcolor": "white",
            "gridwidth": 2,
            "linecolor": "white",
            "showbackground": true,
            "ticks": "",
            "zerolinecolor": "white"
           },
           "zaxis": {
            "backgroundcolor": "#E5ECF6",
            "gridcolor": "white",
            "gridwidth": 2,
            "linecolor": "white",
            "showbackground": true,
            "ticks": "",
            "zerolinecolor": "white"
           }
          },
          "shapedefaults": {
           "line": {
            "color": "#2a3f5f"
           }
          },
          "ternary": {
           "aaxis": {
            "gridcolor": "white",
            "linecolor": "white",
            "ticks": ""
           },
           "baxis": {
            "gridcolor": "white",
            "linecolor": "white",
            "ticks": ""
           },
           "bgcolor": "#E5ECF6",
           "caxis": {
            "gridcolor": "white",
            "linecolor": "white",
            "ticks": ""
           }
          },
          "title": {
           "x": 0.05
          },
          "xaxis": {
           "automargin": true,
           "gridcolor": "white",
           "linecolor": "white",
           "ticks": "",
           "title": {
            "standoff": 15
           },
           "zerolinecolor": "white",
           "zerolinewidth": 2
          },
          "yaxis": {
           "automargin": true,
           "gridcolor": "white",
           "linecolor": "white",
           "ticks": "",
           "title": {
            "standoff": 15
           },
           "zerolinecolor": "white",
           "zerolinewidth": 2
          }
         }
        },
        "title": {
         "text": "Average GAS and GAS_USED per Category"
        },
        "xaxis": {
         "tickangle": -45,
         "title": {
          "text": "Contract Category"
         }
        },
        "yaxis": {
         "title": {
          "text": "Average Value"
         }
        }
       }
      },
      "text/html": [
       "<div>                            <div id=\"4ae3dc2b-23a3-46c5-9d11-6aeb9a729625\" class=\"plotly-graph-div\" style=\"height:525px; width:100%;\"></div>            <script type=\"text/javascript\">                require([\"plotly\"], function(Plotly) {                    window.PLOTLYENV=window.PLOTLYENV || {};                                    if (document.getElementById(\"4ae3dc2b-23a3-46c5-9d11-6aeb9a729625\")) {                    Plotly.newPlot(                        \"4ae3dc2b-23a3-46c5-9d11-6aeb9a729625\",                        [{\"name\":\"GAS\",\"x\":[\"DeFi\",\"Infrastructure\",\"Other\",\"Rewards\",\"Governance\",\"Utility\"],\"y\":[263042.4113898079,652696.0128344572,858799.326969634,2361872.538863976,4252739.030965392,4264480.855153203],\"type\":\"bar\"},{\"name\":\"GAS_USED\",\"x\":[\"DeFi\",\"Infrastructure\",\"Other\",\"Rewards\",\"Governance\",\"Utility\"],\"y\":[21580.706675899568,68526.81531433544,65770.47741578474,59326.83931240658,77192.85610200364,13392.47818012999],\"type\":\"bar\"}],                        {\"template\":{\"data\":{\"histogram2dcontour\":[{\"type\":\"histogram2dcontour\",\"colorbar\":{\"outlinewidth\":0,\"ticks\":\"\"},\"colorscale\":[[0.0,\"#0d0887\"],[0.1111111111111111,\"#46039f\"],[0.2222222222222222,\"#7201a8\"],[0.3333333333333333,\"#9c179e\"],[0.4444444444444444,\"#bd3786\"],[0.5555555555555556,\"#d8576b\"],[0.6666666666666666,\"#ed7953\"],[0.7777777777777778,\"#fb9f3a\"],[0.8888888888888888,\"#fdca26\"],[1.0,\"#f0f921\"]]}],\"choropleth\":[{\"type\":\"choropleth\",\"colorbar\":{\"outlinewidth\":0,\"ticks\":\"\"}}],\"histogram2d\":[{\"type\":\"histogram2d\",\"colorbar\":{\"outlinewidth\":0,\"ticks\":\"\"},\"colorscale\":[[0.0,\"#0d0887\"],[0.1111111111111111,\"#46039f\"],[0.2222222222222222,\"#7201a8\"],[0.3333333333333333,\"#9c179e\"],[0.4444444444444444,\"#bd3786\"],[0.5555555555555556,\"#d8576b\"],[0.6666666666666666,\"#ed7953\"],[0.7777777777777778,\"#fb9f3a\"],[0.8888888888888888,\"#fdca26\"],[1.0,\"#f0f921\"]]}],\"heatmap\":[{\"type\":\"heatmap\",\"colorbar\":{\"outlinewidth\":0,\"ticks\":\"\"},\"colorscale\":[[0.0,\"#0d0887\"],[0.1111111111111111,\"#46039f\"],[0.2222222222222222,\"#7201a8\"],[0.3333333333333333,\"#9c179e\"],[0.4444444444444444,\"#bd3786\"],[0.5555555555555556,\"#d8576b\"],[0.6666666666666666,\"#ed7953\"],[0.7777777777777778,\"#fb9f3a\"],[0.8888888888888888,\"#fdca26\"],[1.0,\"#f0f921\"]]}],\"heatmapgl\":[{\"type\":\"heatmapgl\",\"colorbar\":{\"outlinewidth\":0,\"ticks\":\"\"},\"colorscale\":[[0.0,\"#0d0887\"],[0.1111111111111111,\"#46039f\"],[0.2222222222222222,\"#7201a8\"],[0.3333333333333333,\"#9c179e\"],[0.4444444444444444,\"#bd3786\"],[0.5555555555555556,\"#d8576b\"],[0.6666666666666666,\"#ed7953\"],[0.7777777777777778,\"#fb9f3a\"],[0.8888888888888888,\"#fdca26\"],[1.0,\"#f0f921\"]]}],\"contourcarpet\":[{\"type\":\"contourcarpet\",\"colorbar\":{\"outlinewidth\":0,\"ticks\":\"\"}}],\"contour\":[{\"type\":\"contour\",\"colorbar\":{\"outlinewidth\":0,\"ticks\":\"\"},\"colorscale\":[[0.0,\"#0d0887\"],[0.1111111111111111,\"#46039f\"],[0.2222222222222222,\"#7201a8\"],[0.3333333333333333,\"#9c179e\"],[0.4444444444444444,\"#bd3786\"],[0.5555555555555556,\"#d8576b\"],[0.6666666666666666,\"#ed7953\"],[0.7777777777777778,\"#fb9f3a\"],[0.8888888888888888,\"#fdca26\"],[1.0,\"#f0f921\"]]}],\"surface\":[{\"type\":\"surface\",\"colorbar\":{\"outlinewidth\":0,\"ticks\":\"\"},\"colorscale\":[[0.0,\"#0d0887\"],[0.1111111111111111,\"#46039f\"],[0.2222222222222222,\"#7201a8\"],[0.3333333333333333,\"#9c179e\"],[0.4444444444444444,\"#bd3786\"],[0.5555555555555556,\"#d8576b\"],[0.6666666666666666,\"#ed7953\"],[0.7777777777777778,\"#fb9f3a\"],[0.8888888888888888,\"#fdca26\"],[1.0,\"#f0f921\"]]}],\"mesh3d\":[{\"type\":\"mesh3d\",\"colorbar\":{\"outlinewidth\":0,\"ticks\":\"\"}}],\"scatter\":[{\"fillpattern\":{\"fillmode\":\"overlay\",\"size\":10,\"solidity\":0.2},\"type\":\"scatter\"}],\"parcoords\":[{\"type\":\"parcoords\",\"line\":{\"colorbar\":{\"outlinewidth\":0,\"ticks\":\"\"}}}],\"scatterpolargl\":[{\"type\":\"scatterpolargl\",\"marker\":{\"colorbar\":{\"outlinewidth\":0,\"ticks\":\"\"}}}],\"bar\":[{\"error_x\":{\"color\":\"#2a3f5f\"},\"error_y\":{\"color\":\"#2a3f5f\"},\"marker\":{\"line\":{\"color\":\"#E5ECF6\",\"width\":0.5},\"pattern\":{\"fillmode\":\"overlay\",\"size\":10,\"solidity\":0.2}},\"type\":\"bar\"}],\"scattergeo\":[{\"type\":\"scattergeo\",\"marker\":{\"colorbar\":{\"outlinewidth\":0,\"ticks\":\"\"}}}],\"scatterpolar\":[{\"type\":\"scatterpolar\",\"marker\":{\"colorbar\":{\"outlinewidth\":0,\"ticks\":\"\"}}}],\"histogram\":[{\"marker\":{\"pattern\":{\"fillmode\":\"overlay\",\"size\":10,\"solidity\":0.2}},\"type\":\"histogram\"}],\"scattergl\":[{\"type\":\"scattergl\",\"marker\":{\"colorbar\":{\"outlinewidth\":0,\"ticks\":\"\"}}}],\"scatter3d\":[{\"type\":\"scatter3d\",\"line\":{\"colorbar\":{\"outlinewidth\":0,\"ticks\":\"\"}},\"marker\":{\"colorbar\":{\"outlinewidth\":0,\"ticks\":\"\"}}}],\"scattermapbox\":[{\"type\":\"scattermapbox\",\"marker\":{\"colorbar\":{\"outlinewidth\":0,\"ticks\":\"\"}}}],\"scatterternary\":[{\"type\":\"scatterternary\",\"marker\":{\"colorbar\":{\"outlinewidth\":0,\"ticks\":\"\"}}}],\"scattercarpet\":[{\"type\":\"scattercarpet\",\"marker\":{\"colorbar\":{\"outlinewidth\":0,\"ticks\":\"\"}}}],\"carpet\":[{\"aaxis\":{\"endlinecolor\":\"#2a3f5f\",\"gridcolor\":\"white\",\"linecolor\":\"white\",\"minorgridcolor\":\"white\",\"startlinecolor\":\"#2a3f5f\"},\"baxis\":{\"endlinecolor\":\"#2a3f5f\",\"gridcolor\":\"white\",\"linecolor\":\"white\",\"minorgridcolor\":\"white\",\"startlinecolor\":\"#2a3f5f\"},\"type\":\"carpet\"}],\"table\":[{\"cells\":{\"fill\":{\"color\":\"#EBF0F8\"},\"line\":{\"color\":\"white\"}},\"header\":{\"fill\":{\"color\":\"#C8D4E3\"},\"line\":{\"color\":\"white\"}},\"type\":\"table\"}],\"barpolar\":[{\"marker\":{\"line\":{\"color\":\"#E5ECF6\",\"width\":0.5},\"pattern\":{\"fillmode\":\"overlay\",\"size\":10,\"solidity\":0.2}},\"type\":\"barpolar\"}],\"pie\":[{\"automargin\":true,\"type\":\"pie\"}]},\"layout\":{\"autotypenumbers\":\"strict\",\"colorway\":[\"#636efa\",\"#EF553B\",\"#00cc96\",\"#ab63fa\",\"#FFA15A\",\"#19d3f3\",\"#FF6692\",\"#B6E880\",\"#FF97FF\",\"#FECB52\"],\"font\":{\"color\":\"#2a3f5f\"},\"hovermode\":\"closest\",\"hoverlabel\":{\"align\":\"left\"},\"paper_bgcolor\":\"white\",\"plot_bgcolor\":\"#E5ECF6\",\"polar\":{\"bgcolor\":\"#E5ECF6\",\"angularaxis\":{\"gridcolor\":\"white\",\"linecolor\":\"white\",\"ticks\":\"\"},\"radialaxis\":{\"gridcolor\":\"white\",\"linecolor\":\"white\",\"ticks\":\"\"}},\"ternary\":{\"bgcolor\":\"#E5ECF6\",\"aaxis\":{\"gridcolor\":\"white\",\"linecolor\":\"white\",\"ticks\":\"\"},\"baxis\":{\"gridcolor\":\"white\",\"linecolor\":\"white\",\"ticks\":\"\"},\"caxis\":{\"gridcolor\":\"white\",\"linecolor\":\"white\",\"ticks\":\"\"}},\"coloraxis\":{\"colorbar\":{\"outlinewidth\":0,\"ticks\":\"\"}},\"colorscale\":{\"sequential\":[[0.0,\"#0d0887\"],[0.1111111111111111,\"#46039f\"],[0.2222222222222222,\"#7201a8\"],[0.3333333333333333,\"#9c179e\"],[0.4444444444444444,\"#bd3786\"],[0.5555555555555556,\"#d8576b\"],[0.6666666666666666,\"#ed7953\"],[0.7777777777777778,\"#fb9f3a\"],[0.8888888888888888,\"#fdca26\"],[1.0,\"#f0f921\"]],\"sequentialminus\":[[0.0,\"#0d0887\"],[0.1111111111111111,\"#46039f\"],[0.2222222222222222,\"#7201a8\"],[0.3333333333333333,\"#9c179e\"],[0.4444444444444444,\"#bd3786\"],[0.5555555555555556,\"#d8576b\"],[0.6666666666666666,\"#ed7953\"],[0.7777777777777778,\"#fb9f3a\"],[0.8888888888888888,\"#fdca26\"],[1.0,\"#f0f921\"]],\"diverging\":[[0,\"#8e0152\"],[0.1,\"#c51b7d\"],[0.2,\"#de77ae\"],[0.3,\"#f1b6da\"],[0.4,\"#fde0ef\"],[0.5,\"#f7f7f7\"],[0.6,\"#e6f5d0\"],[0.7,\"#b8e186\"],[0.8,\"#7fbc41\"],[0.9,\"#4d9221\"],[1,\"#276419\"]]},\"xaxis\":{\"gridcolor\":\"white\",\"linecolor\":\"white\",\"ticks\":\"\",\"title\":{\"standoff\":15},\"zerolinecolor\":\"white\",\"automargin\":true,\"zerolinewidth\":2},\"yaxis\":{\"gridcolor\":\"white\",\"linecolor\":\"white\",\"ticks\":\"\",\"title\":{\"standoff\":15},\"zerolinecolor\":\"white\",\"automargin\":true,\"zerolinewidth\":2},\"scene\":{\"xaxis\":{\"backgroundcolor\":\"#E5ECF6\",\"gridcolor\":\"white\",\"linecolor\":\"white\",\"showbackground\":true,\"ticks\":\"\",\"zerolinecolor\":\"white\",\"gridwidth\":2},\"yaxis\":{\"backgroundcolor\":\"#E5ECF6\",\"gridcolor\":\"white\",\"linecolor\":\"white\",\"showbackground\":true,\"ticks\":\"\",\"zerolinecolor\":\"white\",\"gridwidth\":2},\"zaxis\":{\"backgroundcolor\":\"#E5ECF6\",\"gridcolor\":\"white\",\"linecolor\":\"white\",\"showbackground\":true,\"ticks\":\"\",\"zerolinecolor\":\"white\",\"gridwidth\":2}},\"shapedefaults\":{\"line\":{\"color\":\"#2a3f5f\"}},\"annotationdefaults\":{\"arrowcolor\":\"#2a3f5f\",\"arrowhead\":0,\"arrowwidth\":1},\"geo\":{\"bgcolor\":\"white\",\"landcolor\":\"#E5ECF6\",\"subunitcolor\":\"white\",\"showland\":true,\"showlakes\":true,\"lakecolor\":\"white\"},\"title\":{\"x\":0.05},\"mapbox\":{\"style\":\"light\"}}},\"xaxis\":{\"title\":{\"text\":\"Contract Category\"},\"tickangle\":-45},\"barmode\":\"group\",\"title\":{\"text\":\"Average GAS and GAS_USED per Category\"},\"yaxis\":{\"title\":{\"text\":\"Average Value\"}}},                        {\"responsive\": true}                    ).then(function(){\n",
       "                            \n",
       "var gd = document.getElementById('4ae3dc2b-23a3-46c5-9d11-6aeb9a729625');\n",
       "var x = new MutationObserver(function (mutations, observer) {{\n",
       "        var display = window.getComputedStyle(gd).display;\n",
       "        if (!display || display === 'none') {{\n",
       "            console.log([gd, 'removed!']);\n",
       "            Plotly.purge(gd);\n",
       "            observer.disconnect();\n",
       "        }}\n",
       "}});\n",
       "\n",
       "// Listen for the removal of the full notebook cells\n",
       "var notebookContainer = gd.closest('#notebook-container');\n",
       "if (notebookContainer) {{\n",
       "    x.observe(notebookContainer, {childList: true});\n",
       "}}\n",
       "\n",
       "// Listen for the clearing of the current output cell\n",
       "var outputEl = gd.closest('.output');\n",
       "if (outputEl) {{\n",
       "    x.observe(outputEl, {childList: true});\n",
       "}}\n",
       "\n",
       "                        })                };                });            </script>        </div>"
      ]
     },
     "metadata": {},
     "output_type": "display_data"
    }
   ],
   "source": [
    "category_avg = df.groupby('category').agg({\n",
    "    'GAS': 'mean',\n",
    "    'GAS_USED': 'mean'\n",
    "}).reset_index().sort_values(by='GAS')\n",
    "\n",
    "fig = go.Figure(data=[\n",
    "    go.Bar(name='GAS', x=category_avg['category'], y=category_avg['GAS']),\n",
    "    go.Bar(name='GAS_USED', x=category_avg['category'], y=category_avg['GAS_USED'])\n",
    "])\n",
    "\n",
    "fig.update_layout(\n",
    "    barmode='group',\n",
    "    title='Average GAS and GAS_USED per Category',\n",
    "    xaxis_title='Contract Category',\n",
    "    yaxis_title='Average Value',\n",
    "    xaxis_tickangle=-45\n",
    ")\n",
    "\n",
    "fig.show()"
   ]
  },
  {
   "cell_type": "markdown",
   "id": "6bed1afe",
   "metadata": {},
   "source": [
    "# Making features"
   ]
  },
  {
   "cell_type": "code",
   "execution_count": 235,
   "id": "51457a89",
   "metadata": {},
   "outputs": [],
   "source": [
    "# Transaction Frequency Features\n",
    "\n",
    "df['week'] = df['BLOCK_TIMESTAMP'].dt.to_period('W').apply(lambda r: r.start_time)\n",
    "df['month'] = df['BLOCK_TIMESTAMP'].dt.to_period('M').apply(lambda r: r.start_time)\n",
    "df['date'] = df['BLOCK_TIMESTAMP'].dt.date\n",
    "\n",
    "### number of transactions\n",
    "tx_count_week = df.groupby(['FROM_ADDRESS', 'week']).size().groupby('FROM_ADDRESS').mean().rename('tx_count_week')\n",
    "tx_count_month = df.groupby(['FROM_ADDRESS', 'month']).size().groupby('FROM_ADDRESS').mean().rename('tx_count_month')\n",
    "\n",
    "### active days\n",
    "active_days_week = df.groupby(['FROM_ADDRESS', 'week'])['date'].nunique().groupby('FROM_ADDRESS').mean().rename('active_days_week')\n",
    "active_days_month = df.groupby(['FROM_ADDRESS', 'month'])['date'].nunique().groupby('FROM_ADDRESS').mean().rename('active_days_month')\n",
    "\n",
    "def mean_time_between_txs(timestamps):\n",
    "    times = timestamps.sort_values()\n",
    "    deltas = times.diff().dropna()\n",
    "    if deltas.empty:\n",
    "        return np.nan\n",
    "    return deltas.mean().total_seconds() / (60 * 60 * 24)\n",
    "\n",
    "mean_time_between = df.groupby('FROM_ADDRESS')['BLOCK_TIMESTAMP'].apply(mean_time_between_txs).rename('mean_time_between_txs_days')\n",
    "\n",
    "### total transations\n",
    "tx_count_total = df.groupby(['FROM_ADDRESS'])['TX_HASH'].nunique().rename('tx_count_total')\n",
    "\n",
    "\n",
    "\n",
    "Frequency = pd.concat([\n",
    "    tx_count_total,\n",
    "    tx_count_week,\n",
    "    tx_count_month,\n",
    "    active_days_week,\n",
    "    active_days_month,\n",
    "    mean_time_between\n",
    "], axis=1).reset_index()\n",
    "\n",
    "\n",
    "Frequency['mean_time_between_txs_days'] = Frequency['mean_time_between_txs_days'].fillna(0)"
   ]
  },
  {
   "cell_type": "code",
   "execution_count": 240,
   "id": "c592cf2d",
   "metadata": {},
   "outputs": [],
   "source": [
    "#df[df['FROM_ADDRESS']=='0x0000000000001ff3684f28c67538d4d072c22734']\n",
    "Frequency['mean_time_between_txs_days'] = round(Frequency['mean_time_between_txs_days'])"
   ]
  },
  {
   "cell_type": "code",
   "execution_count": 241,
   "id": "3a96fd0d",
   "metadata": {},
   "outputs": [
    {
     "data": {
      "text/html": [
       "<div>\n",
       "<style scoped>\n",
       "    .dataframe tbody tr th:only-of-type {\n",
       "        vertical-align: middle;\n",
       "    }\n",
       "\n",
       "    .dataframe tbody tr th {\n",
       "        vertical-align: top;\n",
       "    }\n",
       "\n",
       "    .dataframe thead th {\n",
       "        text-align: right;\n",
       "    }\n",
       "</style>\n",
       "<table border=\"1\" class=\"dataframe\">\n",
       "  <thead>\n",
       "    <tr style=\"text-align: right;\">\n",
       "      <th></th>\n",
       "      <th>FROM_ADDRESS</th>\n",
       "      <th>tx_count_total</th>\n",
       "      <th>tx_count_week</th>\n",
       "      <th>tx_count_month</th>\n",
       "      <th>active_days_week</th>\n",
       "      <th>active_days_month</th>\n",
       "      <th>mean_time_between_txs_days</th>\n",
       "    </tr>\n",
       "  </thead>\n",
       "  <tbody>\n",
       "    <tr>\n",
       "      <th>0</th>\n",
       "      <td>0x0000000000000068f116a894984e2db1123eb395</td>\n",
       "      <td>62</td>\n",
       "      <td>31.0</td>\n",
       "      <td>31.0</td>\n",
       "      <td>1.0</td>\n",
       "      <td>1.0</td>\n",
       "      <td>0.0</td>\n",
       "    </tr>\n",
       "    <tr>\n",
       "      <th>1</th>\n",
       "      <td>0x0000000000001ff3684f28c67538d4d072c22734</td>\n",
       "      <td>30</td>\n",
       "      <td>30.0</td>\n",
       "      <td>30.0</td>\n",
       "      <td>1.0</td>\n",
       "      <td>1.0</td>\n",
       "      <td>0.0</td>\n",
       "    </tr>\n",
       "    <tr>\n",
       "      <th>2</th>\n",
       "      <td>0x000000000000ad05ccc4f10045630fb830b95127</td>\n",
       "      <td>1</td>\n",
       "      <td>1.0</td>\n",
       "      <td>1.0</td>\n",
       "      <td>1.0</td>\n",
       "      <td>1.0</td>\n",
       "      <td>0.0</td>\n",
       "    </tr>\n",
       "    <tr>\n",
       "      <th>3</th>\n",
       "      <td>0x000000000000c9b3e2c3ec88b1b4c0cd853f4321</td>\n",
       "      <td>3</td>\n",
       "      <td>1.5</td>\n",
       "      <td>1.5</td>\n",
       "      <td>1.0</td>\n",
       "      <td>1.0</td>\n",
       "      <td>7.0</td>\n",
       "    </tr>\n",
       "    <tr>\n",
       "      <th>4</th>\n",
       "      <td>0x0000000000085d4780b73119b644ae5ecd22b376</td>\n",
       "      <td>2</td>\n",
       "      <td>2.0</td>\n",
       "      <td>2.0</td>\n",
       "      <td>1.0</td>\n",
       "      <td>1.0</td>\n",
       "      <td>0.0</td>\n",
       "    </tr>\n",
       "  </tbody>\n",
       "</table>\n",
       "</div>"
      ],
      "text/plain": [
       "                                 FROM_ADDRESS  tx_count_total  tx_count_week  \\\n",
       "0  0x0000000000000068f116a894984e2db1123eb395              62           31.0   \n",
       "1  0x0000000000001ff3684f28c67538d4d072c22734              30           30.0   \n",
       "2  0x000000000000ad05ccc4f10045630fb830b95127               1            1.0   \n",
       "3  0x000000000000c9b3e2c3ec88b1b4c0cd853f4321               3            1.5   \n",
       "4  0x0000000000085d4780b73119b644ae5ecd22b376               2            2.0   \n",
       "\n",
       "   tx_count_month  active_days_week  active_days_month  \\\n",
       "0            31.0               1.0                1.0   \n",
       "1            30.0               1.0                1.0   \n",
       "2             1.0               1.0                1.0   \n",
       "3             1.5               1.0                1.0   \n",
       "4             2.0               1.0                1.0   \n",
       "\n",
       "   mean_time_between_txs_days  \n",
       "0                         0.0  \n",
       "1                         0.0  \n",
       "2                         0.0  \n",
       "3                         7.0  \n",
       "4                         0.0  "
      ]
     },
     "execution_count": 241,
     "metadata": {},
     "output_type": "execute_result"
    }
   ],
   "source": [
    "Frequency.head()"
   ]
  },
  {
   "cell_type": "code",
   "execution_count": 243,
   "id": "fe4e2343",
   "metadata": {},
   "outputs": [],
   "source": [
    "# Interaction Patterns Features\n",
    "\n",
    "### unique_contracts\n",
    "unique_contracts = df.groupby('FROM_ADDRESS')['TO_ADDRESS'].nunique().rename('unique_contracts')\n",
    "\n",
    "### category_diversity\n",
    "category_diversity = df.groupby('FROM_ADDRESS')['category'].nunique().rename('category_diversity')\n",
    "\n",
    "### top_contract_frequency\n",
    "def calc_top_contract_ratio(group):\n",
    "    return group['TO_ADDRESS'].value_counts().max() / len(group)\n",
    "\n",
    "top_contract_frequency = df.groupby('FROM_ADDRESS').apply(calc_top_contract_ratio).rename('top_contract_frequency')\n",
    "\n",
    "### session_count\n",
    "df_sorted = df.sort_values(by=['FROM_ADDRESS', 'BLOCK_TIMESTAMP']).copy()\n",
    "df_sorted['prev_time'] = df_sorted.groupby('FROM_ADDRESS')['BLOCK_TIMESTAMP'].shift(1)\n",
    "df_sorted['time_diff_min'] = (df_sorted['BLOCK_TIMESTAMP'] - df_sorted['prev_time']).dt.total_seconds() / 60\n",
    "df_sorted['new_session'] = (df_sorted['time_diff_min'].isna()) | (df_sorted['time_diff_min'] > 60)\n",
    "df_sorted['session_id'] = df_sorted.groupby('FROM_ADDRESS')['new_session'].cumsum()\n",
    "\n",
    "session_count = df_sorted.groupby('FROM_ADDRESS')['session_id'].nunique().rename('session_count')\n",
    "\n",
    "Interaction = pd.concat([\n",
    "    unique_contracts,\n",
    "    category_diversity,\n",
    "    top_contract_frequency,\n",
    "    session_count\n",
    "], axis=1).reset_index()"
   ]
  },
  {
   "cell_type": "code",
   "execution_count": 244,
   "id": "955ca584",
   "metadata": {},
   "outputs": [
    {
     "data": {
      "text/html": [
       "<div>\n",
       "<style scoped>\n",
       "    .dataframe tbody tr th:only-of-type {\n",
       "        vertical-align: middle;\n",
       "    }\n",
       "\n",
       "    .dataframe tbody tr th {\n",
       "        vertical-align: top;\n",
       "    }\n",
       "\n",
       "    .dataframe thead th {\n",
       "        text-align: right;\n",
       "    }\n",
       "</style>\n",
       "<table border=\"1\" class=\"dataframe\">\n",
       "  <thead>\n",
       "    <tr style=\"text-align: right;\">\n",
       "      <th></th>\n",
       "      <th>FROM_ADDRESS</th>\n",
       "      <th>unique_contracts</th>\n",
       "      <th>category_diversity</th>\n",
       "      <th>top_contract_frequency</th>\n",
       "      <th>session_count</th>\n",
       "    </tr>\n",
       "  </thead>\n",
       "  <tbody>\n",
       "    <tr>\n",
       "      <th>0</th>\n",
       "      <td>0x0000000000000068f116a894984e2db1123eb395</td>\n",
       "      <td>5</td>\n",
       "      <td>3</td>\n",
       "      <td>0.532258</td>\n",
       "      <td>14</td>\n",
       "    </tr>\n",
       "    <tr>\n",
       "      <th>1</th>\n",
       "      <td>0x0000000000001ff3684f28c67538d4d072c22734</td>\n",
       "      <td>4</td>\n",
       "      <td>2</td>\n",
       "      <td>0.900000</td>\n",
       "      <td>7</td>\n",
       "    </tr>\n",
       "    <tr>\n",
       "      <th>2</th>\n",
       "      <td>0x000000000000ad05ccc4f10045630fb830b95127</td>\n",
       "      <td>1</td>\n",
       "      <td>1</td>\n",
       "      <td>1.000000</td>\n",
       "      <td>1</td>\n",
       "    </tr>\n",
       "    <tr>\n",
       "      <th>3</th>\n",
       "      <td>0x000000000000c9b3e2c3ec88b1b4c0cd853f4321</td>\n",
       "      <td>3</td>\n",
       "      <td>2</td>\n",
       "      <td>0.333333</td>\n",
       "      <td>3</td>\n",
       "    </tr>\n",
       "    <tr>\n",
       "      <th>4</th>\n",
       "      <td>0x0000000000085d4780b73119b644ae5ecd22b376</td>\n",
       "      <td>1</td>\n",
       "      <td>1</td>\n",
       "      <td>1.000000</td>\n",
       "      <td>2</td>\n",
       "    </tr>\n",
       "  </tbody>\n",
       "</table>\n",
       "</div>"
      ],
      "text/plain": [
       "                                 FROM_ADDRESS  unique_contracts  \\\n",
       "0  0x0000000000000068f116a894984e2db1123eb395                 5   \n",
       "1  0x0000000000001ff3684f28c67538d4d072c22734                 4   \n",
       "2  0x000000000000ad05ccc4f10045630fb830b95127                 1   \n",
       "3  0x000000000000c9b3e2c3ec88b1b4c0cd853f4321                 3   \n",
       "4  0x0000000000085d4780b73119b644ae5ecd22b376                 1   \n",
       "\n",
       "   category_diversity  top_contract_frequency  session_count  \n",
       "0                   3                0.532258             14  \n",
       "1                   2                0.900000              7  \n",
       "2                   1                1.000000              1  \n",
       "3                   2                0.333333              3  \n",
       "4                   1                1.000000              2  "
      ]
     },
     "execution_count": 244,
     "metadata": {},
     "output_type": "execute_result"
    }
   ],
   "source": [
    "Interaction.head()"
   ]
  },
  {
   "cell_type": "code",
   "execution_count": 246,
   "id": "f0ecd0aa",
   "metadata": {},
   "outputs": [
    {
     "data": {
      "text/plain": [
       "(15520, 11)"
      ]
     },
     "execution_count": 246,
     "metadata": {},
     "output_type": "execute_result"
    }
   ],
   "source": [
    "# merge\n",
    "final_data = pd.merge(Frequency,Interaction, on=['FROM_ADDRESS'], how='inner')\n",
    "final_data.shape"
   ]
  },
  {
   "cell_type": "markdown",
   "id": "78b5a821",
   "metadata": {},
   "source": [
    "# Feature Selection\n",
    "## PCA + VarianceThreshold + manual insight\n"
   ]
  },
  {
   "cell_type": "code",
   "execution_count": 247,
   "id": "02ef163e",
   "metadata": {},
   "outputs": [
    {
     "data": {
      "text/html": [
       "<div>\n",
       "<style scoped>\n",
       "    .dataframe tbody tr th:only-of-type {\n",
       "        vertical-align: middle;\n",
       "    }\n",
       "\n",
       "    .dataframe tbody tr th {\n",
       "        vertical-align: top;\n",
       "    }\n",
       "\n",
       "    .dataframe thead th {\n",
       "        text-align: right;\n",
       "    }\n",
       "</style>\n",
       "<table border=\"1\" class=\"dataframe\">\n",
       "  <thead>\n",
       "    <tr style=\"text-align: right;\">\n",
       "      <th></th>\n",
       "      <th>FROM_ADDRESS</th>\n",
       "      <th>tx_count_total</th>\n",
       "      <th>tx_count_week</th>\n",
       "      <th>tx_count_month</th>\n",
       "      <th>active_days_week</th>\n",
       "      <th>active_days_month</th>\n",
       "      <th>mean_time_between_txs_days</th>\n",
       "      <th>unique_contracts</th>\n",
       "      <th>category_diversity</th>\n",
       "      <th>top_contract_frequency</th>\n",
       "      <th>session_count</th>\n",
       "    </tr>\n",
       "  </thead>\n",
       "  <tbody>\n",
       "    <tr>\n",
       "      <th>0</th>\n",
       "      <td>0x0000000000000068f116a894984e2db1123eb395</td>\n",
       "      <td>62</td>\n",
       "      <td>31.0</td>\n",
       "      <td>31.0</td>\n",
       "      <td>1.0</td>\n",
       "      <td>1.0</td>\n",
       "      <td>0.0</td>\n",
       "      <td>5</td>\n",
       "      <td>3</td>\n",
       "      <td>0.532258</td>\n",
       "      <td>14</td>\n",
       "    </tr>\n",
       "    <tr>\n",
       "      <th>1</th>\n",
       "      <td>0x0000000000001ff3684f28c67538d4d072c22734</td>\n",
       "      <td>30</td>\n",
       "      <td>30.0</td>\n",
       "      <td>30.0</td>\n",
       "      <td>1.0</td>\n",
       "      <td>1.0</td>\n",
       "      <td>0.0</td>\n",
       "      <td>4</td>\n",
       "      <td>2</td>\n",
       "      <td>0.900000</td>\n",
       "      <td>7</td>\n",
       "    </tr>\n",
       "    <tr>\n",
       "      <th>2</th>\n",
       "      <td>0x000000000000ad05ccc4f10045630fb830b95127</td>\n",
       "      <td>1</td>\n",
       "      <td>1.0</td>\n",
       "      <td>1.0</td>\n",
       "      <td>1.0</td>\n",
       "      <td>1.0</td>\n",
       "      <td>0.0</td>\n",
       "      <td>1</td>\n",
       "      <td>1</td>\n",
       "      <td>1.000000</td>\n",
       "      <td>1</td>\n",
       "    </tr>\n",
       "    <tr>\n",
       "      <th>3</th>\n",
       "      <td>0x000000000000c9b3e2c3ec88b1b4c0cd853f4321</td>\n",
       "      <td>3</td>\n",
       "      <td>1.5</td>\n",
       "      <td>1.5</td>\n",
       "      <td>1.0</td>\n",
       "      <td>1.0</td>\n",
       "      <td>7.0</td>\n",
       "      <td>3</td>\n",
       "      <td>2</td>\n",
       "      <td>0.333333</td>\n",
       "      <td>3</td>\n",
       "    </tr>\n",
       "    <tr>\n",
       "      <th>4</th>\n",
       "      <td>0x0000000000085d4780b73119b644ae5ecd22b376</td>\n",
       "      <td>2</td>\n",
       "      <td>2.0</td>\n",
       "      <td>2.0</td>\n",
       "      <td>1.0</td>\n",
       "      <td>1.0</td>\n",
       "      <td>0.0</td>\n",
       "      <td>1</td>\n",
       "      <td>1</td>\n",
       "      <td>1.000000</td>\n",
       "      <td>2</td>\n",
       "    </tr>\n",
       "  </tbody>\n",
       "</table>\n",
       "</div>"
      ],
      "text/plain": [
       "                                 FROM_ADDRESS  tx_count_total  tx_count_week  \\\n",
       "0  0x0000000000000068f116a894984e2db1123eb395              62           31.0   \n",
       "1  0x0000000000001ff3684f28c67538d4d072c22734              30           30.0   \n",
       "2  0x000000000000ad05ccc4f10045630fb830b95127               1            1.0   \n",
       "3  0x000000000000c9b3e2c3ec88b1b4c0cd853f4321               3            1.5   \n",
       "4  0x0000000000085d4780b73119b644ae5ecd22b376               2            2.0   \n",
       "\n",
       "   tx_count_month  active_days_week  active_days_month  \\\n",
       "0            31.0               1.0                1.0   \n",
       "1            30.0               1.0                1.0   \n",
       "2             1.0               1.0                1.0   \n",
       "3             1.5               1.0                1.0   \n",
       "4             2.0               1.0                1.0   \n",
       "\n",
       "   mean_time_between_txs_days  unique_contracts  category_diversity  \\\n",
       "0                         0.0                 5                   3   \n",
       "1                         0.0                 4                   2   \n",
       "2                         0.0                 1                   1   \n",
       "3                         7.0                 3                   2   \n",
       "4                         0.0                 1                   1   \n",
       "\n",
       "   top_contract_frequency  session_count  \n",
       "0                0.532258             14  \n",
       "1                0.900000              7  \n",
       "2                1.000000              1  \n",
       "3                0.333333              3  \n",
       "4                1.000000              2  "
      ]
     },
     "execution_count": 247,
     "metadata": {},
     "output_type": "execute_result"
    }
   ],
   "source": [
    "final_data.head()"
   ]
  },
  {
   "cell_type": "code",
   "execution_count": 249,
   "id": "9c0c02a0",
   "metadata": {},
   "outputs": [
    {
     "data": {
      "text/html": [
       "<div>\n",
       "<style scoped>\n",
       "    .dataframe tbody tr th:only-of-type {\n",
       "        vertical-align: middle;\n",
       "    }\n",
       "\n",
       "    .dataframe tbody tr th {\n",
       "        vertical-align: top;\n",
       "    }\n",
       "\n",
       "    .dataframe thead th {\n",
       "        text-align: right;\n",
       "    }\n",
       "</style>\n",
       "<table border=\"1\" class=\"dataframe\">\n",
       "  <thead>\n",
       "    <tr style=\"text-align: right;\">\n",
       "      <th></th>\n",
       "      <th>tx_count_total</th>\n",
       "      <th>tx_count_week</th>\n",
       "      <th>tx_count_month</th>\n",
       "      <th>active_days_week</th>\n",
       "      <th>active_days_month</th>\n",
       "      <th>mean_time_between_txs_days</th>\n",
       "      <th>unique_contracts</th>\n",
       "      <th>category_diversity</th>\n",
       "      <th>top_contract_frequency</th>\n",
       "      <th>session_count</th>\n",
       "    </tr>\n",
       "  </thead>\n",
       "  <tbody>\n",
       "    <tr>\n",
       "      <th>count</th>\n",
       "      <td>15520.000000</td>\n",
       "      <td>15519.000000</td>\n",
       "      <td>15519.000000</td>\n",
       "      <td>15519.0</td>\n",
       "      <td>15519.0</td>\n",
       "      <td>15520.000000</td>\n",
       "      <td>15520.000000</td>\n",
       "      <td>15520.000000</td>\n",
       "      <td>15519.000000</td>\n",
       "      <td>15520.000000</td>\n",
       "    </tr>\n",
       "    <tr>\n",
       "      <th>mean</th>\n",
       "      <td>6.029510</td>\n",
       "      <td>4.003512</td>\n",
       "      <td>4.003512</td>\n",
       "      <td>1.0</td>\n",
       "      <td>1.0</td>\n",
       "      <td>0.671585</td>\n",
       "      <td>2.077255</td>\n",
       "      <td>1.070619</td>\n",
       "      <td>0.917615</td>\n",
       "      <td>1.814497</td>\n",
       "    </tr>\n",
       "    <tr>\n",
       "      <th>std</th>\n",
       "      <td>114.711585</td>\n",
       "      <td>62.563954</td>\n",
       "      <td>62.563954</td>\n",
       "      <td>0.0</td>\n",
       "      <td>0.0</td>\n",
       "      <td>2.433934</td>\n",
       "      <td>21.057628</td>\n",
       "      <td>0.282054</td>\n",
       "      <td>0.189259</td>\n",
       "      <td>2.347356</td>\n",
       "    </tr>\n",
       "    <tr>\n",
       "      <th>min</th>\n",
       "      <td>0.000000</td>\n",
       "      <td>1.000000</td>\n",
       "      <td>1.000000</td>\n",
       "      <td>1.0</td>\n",
       "      <td>1.0</td>\n",
       "      <td>0.000000</td>\n",
       "      <td>0.000000</td>\n",
       "      <td>1.000000</td>\n",
       "      <td>0.009804</td>\n",
       "      <td>1.000000</td>\n",
       "    </tr>\n",
       "    <tr>\n",
       "      <th>25%</th>\n",
       "      <td>1.000000</td>\n",
       "      <td>1.000000</td>\n",
       "      <td>1.000000</td>\n",
       "      <td>1.0</td>\n",
       "      <td>1.0</td>\n",
       "      <td>0.000000</td>\n",
       "      <td>1.000000</td>\n",
       "      <td>1.000000</td>\n",
       "      <td>1.000000</td>\n",
       "      <td>1.000000</td>\n",
       "    </tr>\n",
       "    <tr>\n",
       "      <th>50%</th>\n",
       "      <td>1.000000</td>\n",
       "      <td>1.000000</td>\n",
       "      <td>1.000000</td>\n",
       "      <td>1.0</td>\n",
       "      <td>1.0</td>\n",
       "      <td>0.000000</td>\n",
       "      <td>1.000000</td>\n",
       "      <td>1.000000</td>\n",
       "      <td>1.000000</td>\n",
       "      <td>1.000000</td>\n",
       "    </tr>\n",
       "    <tr>\n",
       "      <th>75%</th>\n",
       "      <td>2.000000</td>\n",
       "      <td>1.500000</td>\n",
       "      <td>1.500000</td>\n",
       "      <td>1.0</td>\n",
       "      <td>1.0</td>\n",
       "      <td>0.000000</td>\n",
       "      <td>1.000000</td>\n",
       "      <td>1.000000</td>\n",
       "      <td>1.000000</td>\n",
       "      <td>1.000000</td>\n",
       "    </tr>\n",
       "    <tr>\n",
       "      <th>max</th>\n",
       "      <td>12035.000000</td>\n",
       "      <td>6617.000000</td>\n",
       "      <td>6617.000000</td>\n",
       "      <td>1.0</td>\n",
       "      <td>1.0</td>\n",
       "      <td>15.000000</td>\n",
       "      <td>1872.000000</td>\n",
       "      <td>4.000000</td>\n",
       "      <td>1.000000</td>\n",
       "      <td>24.000000</td>\n",
       "    </tr>\n",
       "  </tbody>\n",
       "</table>\n",
       "</div>"
      ],
      "text/plain": [
       "       tx_count_total  tx_count_week  tx_count_month  active_days_week  \\\n",
       "count    15520.000000   15519.000000    15519.000000           15519.0   \n",
       "mean         6.029510       4.003512        4.003512               1.0   \n",
       "std        114.711585      62.563954       62.563954               0.0   \n",
       "min          0.000000       1.000000        1.000000               1.0   \n",
       "25%          1.000000       1.000000        1.000000               1.0   \n",
       "50%          1.000000       1.000000        1.000000               1.0   \n",
       "75%          2.000000       1.500000        1.500000               1.0   \n",
       "max      12035.000000    6617.000000     6617.000000               1.0   \n",
       "\n",
       "       active_days_month  mean_time_between_txs_days  unique_contracts  \\\n",
       "count            15519.0                15520.000000      15520.000000   \n",
       "mean                 1.0                    0.671585          2.077255   \n",
       "std                  0.0                    2.433934         21.057628   \n",
       "min                  1.0                    0.000000          0.000000   \n",
       "25%                  1.0                    0.000000          1.000000   \n",
       "50%                  1.0                    0.000000          1.000000   \n",
       "75%                  1.0                    0.000000          1.000000   \n",
       "max                  1.0                   15.000000       1872.000000   \n",
       "\n",
       "       category_diversity  top_contract_frequency  session_count  \n",
       "count        15520.000000            15519.000000   15520.000000  \n",
       "mean             1.070619                0.917615       1.814497  \n",
       "std              0.282054                0.189259       2.347356  \n",
       "min              1.000000                0.009804       1.000000  \n",
       "25%              1.000000                1.000000       1.000000  \n",
       "50%              1.000000                1.000000       1.000000  \n",
       "75%              1.000000                1.000000       1.000000  \n",
       "max              4.000000                1.000000      24.000000  "
      ]
     },
     "execution_count": 249,
     "metadata": {},
     "output_type": "execute_result"
    }
   ],
   "source": [
    "final_data.describe()"
   ]
  },
  {
   "cell_type": "code",
   "execution_count": 270,
   "id": "9ee74f99",
   "metadata": {},
   "outputs": [],
   "source": [
    "# select numberic variables\n",
    "final_data['top_contract_frequency'] = final_data['top_contract_frequency'].dropna()\n",
    "final_data['tx_count_week'] = final_data['tx_count_week'].dropna()\n",
    "final_data = final_data.dropna()\n",
    "X_raw = final_data.select_dtypes(include=[np.number])"
   ]
  },
  {
   "cell_type": "code",
   "execution_count": 271,
   "id": "88a1ef9e",
   "metadata": {},
   "outputs": [],
   "source": [
    "# normalization\n",
    "scaler = StandardScaler()\n",
    "X_scaled = scaler.fit_transform(X_raw)"
   ]
  },
  {
   "cell_type": "code",
   "execution_count": 272,
   "id": "279c62e3",
   "metadata": {},
   "outputs": [],
   "source": [
    "# Variance Threshold\n",
    "vt = VarianceThreshold(threshold=0.01)\n",
    "X_vt = vt.fit_transform(X_scaled)"
   ]
  },
  {
   "cell_type": "code",
   "execution_count": 273,
   "id": "b8a6b8c5",
   "metadata": {},
   "outputs": [
    {
     "name": "stdout",
     "output_type": "stream",
     "text": [
      "Selected after VarianceThreshold: ['tx_count_total', 'tx_count_week', 'tx_count_month', 'mean_time_between_txs_days', 'unique_contracts', 'category_diversity', 'top_contract_frequency', 'session_count']\n"
     ]
    }
   ],
   "source": [
    "selected_columns = X_raw.columns[vt.get_support()]\n",
    "print(\"Selected after VarianceThreshold:\", selected_columns.tolist())"
   ]
  },
  {
   "cell_type": "code",
   "execution_count": 274,
   "id": "28b84648",
   "metadata": {},
   "outputs": [
    {
     "name": "stdout",
     "output_type": "stream",
     "text": [
      "PCA output shape: (15519, 5)\n"
     ]
    }
   ],
   "source": [
    "# PCA\n",
    "pca = PCA(n_components=0.95)\n",
    "X_pca = pca.fit_transform(X_vt)\n",
    "\n",
    "print(f\"PCA output shape: {X_pca.shape}\")"
   ]
  },
  {
   "cell_type": "code",
   "execution_count": 275,
   "id": "369f166d",
   "metadata": {},
   "outputs": [
    {
     "data": {
      "text/plain": [
       "array([[ 2.34647718, -6.96556091, -3.43791119,  2.00877804,  2.9345035 ],\n",
       "       [ 1.2031389 , -2.58485506, -1.66081387,  1.2345242 ,  1.93504196],\n",
       "       [-0.21330564,  0.63266272, -0.08307527,  0.06015685,  0.03776119],\n",
       "       ...,\n",
       "       [-0.21330564,  0.63266272, -0.08307527,  0.06015685,  0.03776119],\n",
       "       [-0.21330564,  0.63266272, -0.08307527,  0.06015685,  0.03776119],\n",
       "       [-0.21330564,  0.63266272, -0.08307527,  0.06015685,  0.03776119]])"
      ]
     },
     "execution_count": 275,
     "metadata": {},
     "output_type": "execute_result"
    }
   ],
   "source": [
    "X_pca"
   ]
  },
  {
   "cell_type": "markdown",
   "id": "9e846015",
   "metadata": {},
   "source": [
    "# Clustering"
   ]
  },
  {
   "cell_type": "code",
   "execution_count": 280,
   "id": "318bd1d0",
   "metadata": {},
   "outputs": [
    {
     "data": {
      "image/png": "[encoded data removed]",
      "text/plain": [
       "<Figure size 1400x500 with 2 Axes>"
      ]
     },
     "metadata": {},
     "output_type": "display_data"
    }
   ],
   "source": [
    "\n",
    "inertia = []\n",
    "silhouette_scores = []\n",
    "k_range = range(2, 11)\n",
    "\n",
    "for k in k_range:\n",
    "    kmeans = KMeans(n_clusters=k, random_state=42, n_init=10) \n",
    "    labels = kmeans.fit_predict(X_pca)\n",
    "    inertia.append(kmeans.inertia_)\n",
    "    silhouette_scores.append(silhouette_score(X_pca, labels))\n",
    "\n",
    "# رسم نمودار Elbow و Silhouette\n",
    "fig, ax = plt.subplots(1, 2, figsize=(14, 5))\n",
    "\n",
    "ax[0].plot(k_range, inertia, marker='o')\n",
    "ax[0].set_title('Elbow Method - Inertia vs. K')\n",
    "ax[0].set_xlabel('Number of Clusters (k)')\n",
    "ax[0].set_ylabel('Inertia')\n",
    "\n",
    "ax[1].plot(k_range, silhouette_scores, marker='o', color='green')\n",
    "ax[1].set_title('Silhouette Score vs. K')\n",
    "ax[1].set_xlabel('Number of Clusters (k)')\n",
    "ax[1].set_ylabel('Silhouette Score')\n",
    "\n",
    "plt.tight_layout()\n",
    "plt.show()"
   ]
  },
  {
   "cell_type": "code",
   "execution_count": 282,
   "id": "d77e2928",
   "metadata": {},
   "outputs": [
    {
     "name": "stderr",
     "output_type": "stream",
     "text": [
      "/var/folders/nw/7766myvd65gfypd6nd1lgsb40000gn/T/ipykernel_9501/1538532865.py:7: SettingWithCopyWarning:\n",
      "\n",
      "\n",
      "A value is trying to be set on a copy of a slice from a DataFrame.\n",
      "Try using .loc[row_indexer,col_indexer] = value instead\n",
      "\n",
      "See the caveats in the documentation: https://pandas.pydata.org/pandas-docs/stable/user_guide/indexing.html#returning-a-view-versus-a-copy\n",
      "\n"
     ]
    }
   ],
   "source": [
    "X = final_data.drop(columns=['FROM_ADDRESS','active_days_week','active_days_month'], axis=1) \n",
    "scaler = StandardScaler()\n",
    "X_scaled = scaler.fit_transform(X)\n",
    "\n",
    "# K=7\n",
    "kmeans = KMeans(n_clusters=7, random_state=42, n_init='auto')\n",
    "final_data['cluster'] = kmeans.fit_predict(X_scaled)"
   ]
  },
  {
   "cell_type": "code",
   "execution_count": 284,
   "id": "997dfd32",
   "metadata": {},
   "outputs": [
    {
     "data": {
      "text/plain": [
       "0    12448\n",
       "2     1457\n",
       "6      814\n",
       "4      409\n",
       "3      386\n",
       "1        4\n",
       "5        1\n",
       "Name: cluster, dtype: int64"
      ]
     },
     "execution_count": 284,
     "metadata": {},
     "output_type": "execute_result"
    }
   ],
   "source": [
    "final_data['cluster'].value_counts()"
   ]
  },
  {
   "cell_type": "code",
   "execution_count": 285,
   "id": "b19c357f",
   "metadata": {},
   "outputs": [
    {
     "name": "stderr",
     "output_type": "stream",
     "text": [
      "/var/folders/nw/7766myvd65gfypd6nd1lgsb40000gn/T/ipykernel_9501/3241805672.py:1: FutureWarning:\n",
      "\n",
      "The default value of numeric_only in DataFrameGroupBy.mean is deprecated. In a future version, numeric_only will default to False. Either specify numeric_only or select only columns which should be valid for the function.\n",
      "\n"
     ]
    },
    {
     "data": {
      "text/html": [
       "<div>\n",
       "<style scoped>\n",
       "    .dataframe tbody tr th:only-of-type {\n",
       "        vertical-align: middle;\n",
       "    }\n",
       "\n",
       "    .dataframe tbody tr th {\n",
       "        vertical-align: top;\n",
       "    }\n",
       "\n",
       "    .dataframe thead th {\n",
       "        text-align: right;\n",
       "    }\n",
       "</style>\n",
       "<table border=\"1\" class=\"dataframe\">\n",
       "  <thead>\n",
       "    <tr style=\"text-align: right;\">\n",
       "      <th></th>\n",
       "      <th>tx_count_total</th>\n",
       "      <th>tx_count_week</th>\n",
       "      <th>tx_count_month</th>\n",
       "      <th>active_days_week</th>\n",
       "      <th>active_days_month</th>\n",
       "      <th>mean_time_between_txs_days</th>\n",
       "      <th>unique_contracts</th>\n",
       "      <th>category_diversity</th>\n",
       "      <th>top_contract_frequency</th>\n",
       "      <th>session_count</th>\n",
       "    </tr>\n",
       "    <tr>\n",
       "      <th>cluster</th>\n",
       "      <th></th>\n",
       "      <th></th>\n",
       "      <th></th>\n",
       "      <th></th>\n",
       "      <th></th>\n",
       "      <th></th>\n",
       "      <th></th>\n",
       "      <th></th>\n",
       "      <th></th>\n",
       "      <th></th>\n",
       "    </tr>\n",
       "  </thead>\n",
       "  <tbody>\n",
       "    <tr>\n",
       "      <th>0</th>\n",
       "      <td>1.378294</td>\n",
       "      <td>1.336600</td>\n",
       "      <td>1.336600</td>\n",
       "      <td>1.0</td>\n",
       "      <td>1.0</td>\n",
       "      <td>0.094634</td>\n",
       "      <td>1.004097</td>\n",
       "      <td>1.000000</td>\n",
       "      <td>0.999356</td>\n",
       "      <td>1.126607</td>\n",
       "    </tr>\n",
       "    <tr>\n",
       "      <th>1</th>\n",
       "      <td>3198.000000</td>\n",
       "      <td>1686.750000</td>\n",
       "      <td>1686.750000</td>\n",
       "      <td>1.0</td>\n",
       "      <td>1.0</td>\n",
       "      <td>0.000000</td>\n",
       "      <td>724.500000</td>\n",
       "      <td>2.500000</td>\n",
       "      <td>0.403107</td>\n",
       "      <td>2.000000</td>\n",
       "    </tr>\n",
       "    <tr>\n",
       "      <th>2</th>\n",
       "      <td>7.573095</td>\n",
       "      <td>6.082361</td>\n",
       "      <td>6.082361</td>\n",
       "      <td>1.0</td>\n",
       "      <td>1.0</td>\n",
       "      <td>1.687714</td>\n",
       "      <td>2.513384</td>\n",
       "      <td>1.000000</td>\n",
       "      <td>0.556837</td>\n",
       "      <td>3.362388</td>\n",
       "    </tr>\n",
       "    <tr>\n",
       "      <th>3</th>\n",
       "      <td>2.000000</td>\n",
       "      <td>1.000000</td>\n",
       "      <td>1.000000</td>\n",
       "      <td>1.0</td>\n",
       "      <td>1.0</td>\n",
       "      <td>13.935233</td>\n",
       "      <td>1.471503</td>\n",
       "      <td>1.160622</td>\n",
       "      <td>0.764249</td>\n",
       "      <td>2.000000</td>\n",
       "    </tr>\n",
       "    <tr>\n",
       "      <th>4</th>\n",
       "      <td>52.902200</td>\n",
       "      <td>29.118582</td>\n",
       "      <td>29.118582</td>\n",
       "      <td>1.0</td>\n",
       "      <td>1.0</td>\n",
       "      <td>0.506112</td>\n",
       "      <td>13.014670</td>\n",
       "      <td>1.290954</td>\n",
       "      <td>0.554689</td>\n",
       "      <td>13.080685</td>\n",
       "    </tr>\n",
       "    <tr>\n",
       "      <th>5</th>\n",
       "      <td>12035.000000</td>\n",
       "      <td>6617.000000</td>\n",
       "      <td>6617.000000</td>\n",
       "      <td>1.0</td>\n",
       "      <td>1.0</td>\n",
       "      <td>0.000000</td>\n",
       "      <td>1872.000000</td>\n",
       "      <td>3.000000</td>\n",
       "      <td>0.376379</td>\n",
       "      <td>2.000000</td>\n",
       "    </tr>\n",
       "    <tr>\n",
       "      <th>6</th>\n",
       "      <td>22.298526</td>\n",
       "      <td>13.477887</td>\n",
       "      <td>13.477887</td>\n",
       "      <td>1.0</td>\n",
       "      <td>1.0</td>\n",
       "      <td>1.474201</td>\n",
       "      <td>6.654791</td>\n",
       "      <td>2.114251</td>\n",
       "      <td>0.571635</td>\n",
       "      <td>3.814496</td>\n",
       "    </tr>\n",
       "  </tbody>\n",
       "</table>\n",
       "</div>"
      ],
      "text/plain": [
       "         tx_count_total  tx_count_week  tx_count_month  active_days_week  \\\n",
       "cluster                                                                    \n",
       "0              1.378294       1.336600        1.336600               1.0   \n",
       "1           3198.000000    1686.750000     1686.750000               1.0   \n",
       "2              7.573095       6.082361        6.082361               1.0   \n",
       "3              2.000000       1.000000        1.000000               1.0   \n",
       "4             52.902200      29.118582       29.118582               1.0   \n",
       "5          12035.000000    6617.000000     6617.000000               1.0   \n",
       "6             22.298526      13.477887       13.477887               1.0   \n",
       "\n",
       "         active_days_month  mean_time_between_txs_days  unique_contracts  \\\n",
       "cluster                                                                    \n",
       "0                      1.0                    0.094634          1.004097   \n",
       "1                      1.0                    0.000000        724.500000   \n",
       "2                      1.0                    1.687714          2.513384   \n",
       "3                      1.0                   13.935233          1.471503   \n",
       "4                      1.0                    0.506112         13.014670   \n",
       "5                      1.0                    0.000000       1872.000000   \n",
       "6                      1.0                    1.474201          6.654791   \n",
       "\n",
       "         category_diversity  top_contract_frequency  session_count  \n",
       "cluster                                                             \n",
       "0                  1.000000                0.999356       1.126607  \n",
       "1                  2.500000                0.403107       2.000000  \n",
       "2                  1.000000                0.556837       3.362388  \n",
       "3                  1.160622                0.764249       2.000000  \n",
       "4                  1.290954                0.554689      13.080685  \n",
       "5                  3.000000                0.376379       2.000000  \n",
       "6                  2.114251                0.571635       3.814496  "
      ]
     },
     "execution_count": 285,
     "metadata": {},
     "output_type": "execute_result"
    }
   ],
   "source": [
    "\n",
    "cluster_profile = final_data.groupby('cluster').mean()\n",
    "cluster_profile\n"
   ]
  },
  {
   "cell_type": "code",
   "execution_count": 286,
   "id": "80c42a86",
   "metadata": {},
   "outputs": [
    {
     "name": "stderr",
     "output_type": "stream",
     "text": [
      "/var/folders/nw/7766myvd65gfypd6nd1lgsb40000gn/T/ipykernel_9501/1446872707.py:6: SettingWithCopyWarning:\n",
      "\n",
      "\n",
      "A value is trying to be set on a copy of a slice from a DataFrame.\n",
      "Try using .loc[row_indexer,col_indexer] = value instead\n",
      "\n",
      "See the caveats in the documentation: https://pandas.pydata.org/pandas-docs/stable/user_guide/indexing.html#returning-a-view-versus-a-copy\n",
      "\n",
      "/var/folders/nw/7766myvd65gfypd6nd1lgsb40000gn/T/ipykernel_9501/1446872707.py:7: SettingWithCopyWarning:\n",
      "\n",
      "\n",
      "A value is trying to be set on a copy of a slice from a DataFrame.\n",
      "Try using .loc[row_indexer,col_indexer] = value instead\n",
      "\n",
      "See the caveats in the documentation: https://pandas.pydata.org/pandas-docs/stable/user_guide/indexing.html#returning-a-view-versus-a-copy\n",
      "\n"
     ]
    },
    {
     "data": {
      "image/png": "[encoded data removed]",
      "text/plain": [
       "<Figure size 1000x600 with 1 Axes>"
      ]
     },
     "metadata": {},
     "output_type": "display_data"
    }
   ],
   "source": [
    "\n",
    "# اجرای PCA برای نمایش دو بعدی\n",
    "pca = PCA(n_components=2)\n",
    "X_pca = pca.fit_transform(X_scaled)\n",
    "\n",
    "# اضافه کردن نتیجه PCA به دیتافریم\n",
    "final_data['pca1'] = X_pca[:, 0]\n",
    "final_data['pca2'] = X_pca[:, 1]\n",
    "\n",
    "# رسم نمودار دو بعدی\n",
    "plt.figure(figsize=(10, 6))\n",
    "sns.scatterplot(data=final_data, x='pca1', y='pca2', hue='cluster', palette='tab10', s=40)\n",
    "plt.title('User Clustering - PCA Projection')\n",
    "plt.xlabel('PCA 1')\n",
    "plt.ylabel('PCA 2')\n",
    "plt.legend(title='Cluster')\n",
    "plt.grid(True)\n",
    "plt.tight_layout()\n",
    "plt.show()"
   ]
  },
  {
   "cell_type": "code",
   "execution_count": null,
   "id": "aa86e671",
   "metadata": {},
   "outputs": [],
   "source": []
  }
 ],
 "metadata": {
  "kernelspec": {
   "display_name": "Python 3 (ipykernel)",
   "language": "python",
   "name": "python3"
  },
  "language_info": {
   "codemirror_mode": {
    "name": "ipython",
    "version": 3
   },
   "file_extension": ".py",
   "mimetype": "text/x-python",
   "name": "python",
   "nbconvert_exporter": "python",
   "pygments_lexer": "ipython3",
   "version": "3.9.13"
  }
 },
 "nbformat": 4,
 "nbformat_minor": 5
}
