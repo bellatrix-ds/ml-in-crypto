{
 "cells": [
  {
   "cell_type": "code",
   "execution_count": 6,
   "id": "16bc31d6",
   "metadata": {},
   "outputs": [],
   "source": [
    "import pandas as pd\n",
    "import matplotlib as plt\n",
    "import plotly.express as px\n",
    "import warnings\n",
    "warnings.filterwarnings('ignore')\n",
    "import requests\n",
    "from datetime import datetime, timedelta"
   ]
  },
  {
   "cell_type": "code",
   "execution_count": 7,
   "id": "d10d5434",
   "metadata": {},
   "outputs": [
    {
     "name": "stdout",
     "output_type": "stream",
     "text": [
      "✅ تعداد پروتکل‌های روی Ethereum: 1453\n"
     ]
    },
    {
     "name": "stderr",
     "output_type": "stream",
     "text": [
      "100%|███████████████████████████████████████| 1453/1453 [15:20<00:00,  1.58it/s]"
     ]
    },
    {
     "name": "stdout",
     "output_type": "stream",
     "text": [
      "\n",
      "✅ تمام شد! 446271 ردیف داده استخراج شد.\n",
      "        date       tvl_usd protocol_name     chain\n",
      "0 2024-04-14  2.650700e+10   binance-cex  Ethereum\n",
      "1 2024-04-15  2.792865e+10   binance-cex  Ethereum\n",
      "2 2024-04-16  2.790882e+10   binance-cex  Ethereum\n",
      "3 2024-04-17  2.770807e+10   binance-cex  Ethereum\n",
      "4 2024-04-18  2.711308e+10   binance-cex  Ethereum\n"
     ]
    },
    {
     "name": "stderr",
     "output_type": "stream",
     "text": [
      "\n"
     ]
    }
   ],
   "source": [
    "import requests\n",
    "import pandas as pd\n",
    "from datetime import datetime, timedelta\n",
    "from tqdm import tqdm  \n",
    "\n",
    "all_protocols = requests.get(\"https://api.llama.fi/protocols\").json()\n",
    "\n",
    "eth_protocols = [p for p in all_protocols if \"Ethereum\" in p.get(\"chains\", [])]\n",
    "\n",
    "print(f\"✅ Number of all protocols on Ethereum: {len(eth_protocols)}\")\n",
    "\n",
    "one_year_ago = datetime.now() - timedelta(days=365)\n",
    "\n",
    "all_data = []\n",
    "\n",
    "for proto in tqdm(eth_protocols):\n",
    "    name = proto[\"slug\"]  # مثل 'aave'\n",
    "    try:\n",
    "        url = f\"https://api.llama.fi/protocol/{name}\"\n",
    "        res = requests.get(url)\n",
    "        if res.status_code != 200:\n",
    "            continue\n",
    "\n",
    "        data = res.json()\n",
    "        tvl_data = data.get(\"chainTvls\", {}).get(\"Ethereum\", {}).get(\"tvl\", [])\n",
    "        if not tvl_data:\n",
    "            continue\n",
    "\n",
    "        df = pd.DataFrame(tvl_data)\n",
    "        df['date'] = pd.to_datetime(df['date'], unit='s')\n",
    "        df = df[df['date'] >= one_year_ago]\n",
    "        df['tvl_usd'] = df['totalLiquidityUSD']\n",
    "        df['protocol_name'] = name\n",
    "        df['chain'] = \"Ethereum\"\n",
    "        df = df[['date', 'tvl_usd', 'protocol_name', 'chain']]\n",
    "        \n",
    "        all_data.append(df)\n",
    "\n",
    "    except Exception as e:\n",
    "        print(f\"❌ problem in {name}: {e}\")\n",
    "        continue\n",
    "\n",
    "# 6. نهایی کردن دیتافریم\n",
    "final_df = pd.concat(all_data).reset_index(drop=True)\n",
    "print(f\"\\n✅ Done! {len(final_df)} number of extracted rows.\")\n",
    "print(final_df.head())"
   ]
  },
  {
   "cell_type": "code",
   "execution_count": 8,
   "id": "dfd1945b",
   "metadata": {},
   "outputs": [
    {
     "name": "stdout",
     "output_type": "stream",
     "text": [
      "(446271, 4)\n"
     ]
    }
   ],
   "source": [
    "final_df.head()\n",
    "print(final_df.shape)"
   ]
  },
  {
   "cell_type": "code",
   "execution_count": 9,
   "id": "a951f7ae",
   "metadata": {},
   "outputs": [
    {
     "data": {
      "text/html": [
       "<div>\n",
       "<style scoped>\n",
       "    .dataframe tbody tr th:only-of-type {\n",
       "        vertical-align: middle;\n",
       "    }\n",
       "\n",
       "    .dataframe tbody tr th {\n",
       "        vertical-align: top;\n",
       "    }\n",
       "\n",
       "    .dataframe thead th {\n",
       "        text-align: right;\n",
       "    }\n",
       "</style>\n",
       "<table border=\"1\" class=\"dataframe\">\n",
       "  <thead>\n",
       "    <tr style=\"text-align: right;\">\n",
       "      <th></th>\n",
       "      <th>date</th>\n",
       "      <th>tvl_usd</th>\n",
       "      <th>protocol_name</th>\n",
       "      <th>chain</th>\n",
       "    </tr>\n",
       "  </thead>\n",
       "  <tbody>\n",
       "    <tr>\n",
       "      <th>0</th>\n",
       "      <td>2024-04-14</td>\n",
       "      <td>2.650700e+10</td>\n",
       "      <td>binance-cex</td>\n",
       "      <td>Ethereum</td>\n",
       "    </tr>\n",
       "    <tr>\n",
       "      <th>1</th>\n",
       "      <td>2024-04-15</td>\n",
       "      <td>2.792865e+10</td>\n",
       "      <td>binance-cex</td>\n",
       "      <td>Ethereum</td>\n",
       "    </tr>\n",
       "    <tr>\n",
       "      <th>2</th>\n",
       "      <td>2024-04-16</td>\n",
       "      <td>2.790882e+10</td>\n",
       "      <td>binance-cex</td>\n",
       "      <td>Ethereum</td>\n",
       "    </tr>\n",
       "    <tr>\n",
       "      <th>3</th>\n",
       "      <td>2024-04-17</td>\n",
       "      <td>2.770807e+10</td>\n",
       "      <td>binance-cex</td>\n",
       "      <td>Ethereum</td>\n",
       "    </tr>\n",
       "    <tr>\n",
       "      <th>4</th>\n",
       "      <td>2024-04-18</td>\n",
       "      <td>2.711308e+10</td>\n",
       "      <td>binance-cex</td>\n",
       "      <td>Ethereum</td>\n",
       "    </tr>\n",
       "  </tbody>\n",
       "</table>\n",
       "</div>"
      ],
      "text/plain": [
       "        date       tvl_usd protocol_name     chain\n",
       "0 2024-04-14  2.650700e+10   binance-cex  Ethereum\n",
       "1 2024-04-15  2.792865e+10   binance-cex  Ethereum\n",
       "2 2024-04-16  2.790882e+10   binance-cex  Ethereum\n",
       "3 2024-04-17  2.770807e+10   binance-cex  Ethereum\n",
       "4 2024-04-18  2.711308e+10   binance-cex  Ethereum"
      ]
     },
     "execution_count": 9,
     "metadata": {},
     "output_type": "execute_result"
    }
   ],
   "source": [
    "final_df.head()"
   ]
  },
  {
   "cell_type": "code",
   "execution_count": null,
   "id": "7076ee1f",
   "metadata": {},
   "outputs": [],
   "source": []
  }
 ],
 "metadata": {
  "kernelspec": {
   "display_name": "Python 3 (ipykernel)",
   "language": "python",
   "name": "python3"
  },
  "language_info": {
   "codemirror_mode": {
    "name": "ipython",
    "version": 3
   },
   "file_extension": ".py",
   "mimetype": "text/x-python",
   "name": "python",
   "nbconvert_exporter": "python",
   "pygments_lexer": "ipython3",
   "version": "3.9.13"
  }
 },
 "nbformat": 4,
 "nbformat_minor": 5
}
